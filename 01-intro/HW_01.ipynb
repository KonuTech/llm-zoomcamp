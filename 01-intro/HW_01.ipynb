{
 "cells": [
  {
   "cell_type": "code",
   "execution_count": 1,
   "id": "cce74ac6-195f-4949-a98a-62373f06bd99",
   "metadata": {},
   "outputs": [
    {
     "name": "stderr",
     "output_type": "stream",
     "text": [
      "c:\\users\\konutech\\llm-zoomcamp\\llm-zoomcamp\\venv\\lib\\site-packages\\tqdm\\auto.py:21: TqdmWarning: IProgress not found. Please update jupyter and ipywidgets. See https://ipywidgets.readthedocs.io/en/stable/user_install.html\n",
      "  from .autonotebook import tqdm as notebook_tqdm\n"
     ]
    }
   ],
   "source": [
    "import requests\n",
    "from elasticsearch import Elasticsearch\n",
    "from tqdm.auto import tqdm\n",
    "from openai import OpenAI\n",
    "import tiktoken"
   ]
  },
  {
   "cell_type": "code",
   "execution_count": 2,
   "id": "eeede805-8b24-4c88-aa94-2f28ab8a7b02",
   "metadata": {},
   "outputs": [],
   "source": [
    "docs_url = 'https://github.com/DataTalksClub/llm-zoomcamp/blob/main/01-intro/documents.json?raw=1'\n",
    "docs_response = requests.get(docs_url)\n",
    "documents_raw = docs_response.json()"
   ]
  },
  {
   "cell_type": "code",
   "execution_count": 3,
   "id": "58df5532-7cac-4169-9a61-c0b0e6a8afca",
   "metadata": {},
   "outputs": [],
   "source": [
    "documents = []\n",
    "\n",
    "for course in documents_raw:\n",
    "    course_name = course['course']\n",
    "\n",
    "    for doc in course['documents']:\n",
    "        doc['course'] = course_name\n",
    "        documents.append(doc)"
   ]
  },
  {
   "cell_type": "code",
   "execution_count": 4,
   "id": "67550a52-3cfa-4d66-8fb9-ebbb22520d73",
   "metadata": {},
   "outputs": [
    {
     "data": {
      "text/plain": [
       "948"
      ]
     },
     "execution_count": 4,
     "metadata": {},
     "output_type": "execute_result"
    }
   ],
   "source": [
    "len(documents)"
   ]
  },
  {
   "cell_type": "code",
   "execution_count": 5,
   "id": "6c4e169d-d495-49ef-aa67-1e5ea3aa3607",
   "metadata": {},
   "outputs": [
    {
     "data": {
      "text/plain": [
       "{'text': 'Problem description\\nInfrastructure created in AWS with CD-Deploy Action needs to be destroyed\\nSolution description\\nFrom local:\\nterraform init -backend-config=\"key=mlops-zoomcamp-prod.tfstate\" --reconfigure\\nterraform destroy --var-file vars/prod.tfvars\\nAdded by Erick Calderin',\n",
       " 'section': 'Module 6: Best practices',\n",
       " 'question': 'How to destroy infrastructure created via GitHub Actions',\n",
       " 'course': 'mlops-zoomcamp'}"
      ]
     },
     "execution_count": 5,
     "metadata": {},
     "output_type": "execute_result"
    }
   ],
   "source": [
    "documents[-1]"
   ]
  },
  {
   "cell_type": "markdown",
   "id": "96923c5c-97e5-425d-ac78-4ba84e14c6e0",
   "metadata": {},
   "source": [
    "# Q1: \"build_hash\" : \"42f05b9372a9a4a470db3b52817899b99a76ee73\""
   ]
  },
  {
   "cell_type": "code",
   "execution_count": 6,
   "id": "e9fe0827-fd11-4661-8120-611530e81ae9",
   "metadata": {},
   "outputs": [],
   "source": [
    "image = !curl localhost:9200"
   ]
  },
  {
   "cell_type": "code",
   "execution_count": 7,
   "id": "ab40bc6d-70d9-4a4e-b102-277f7e7efe6d",
   "metadata": {},
   "outputs": [
    {
     "data": {
      "text/plain": [
       "['  % Total    % Received % Xferd  Average Speed   Time    Time     Time  Current',\n",
       " '                                 Dload  Upload   Total   Spent    Left  Speed',\n",
       " '',\n",
       " '  0     0    0     0    0     0      0      0 --:--:-- --:--:-- --:--:--     0',\n",
       " '100   539  100   539    0     0   109k      0 --:--:-- --:--:-- --:--:--  131k{',\n",
       " '  \"name\" : \"64ba05140871\",',\n",
       " '  \"cluster_name\" : \"docker-cluster\",',\n",
       " '  \"cluster_uuid\" : \"rYwY329rQr-pLJYC5fNJjA\",',\n",
       " '  \"version\" : {',\n",
       " '    \"number\" : \"8.4.3\",',\n",
       " '    \"build_flavor\" : \"default\",',\n",
       " '    \"build_type\" : \"docker\",',\n",
       " '    \"build_hash\" : \"42f05b9372a9a4a470db3b52817899b99a76ee73\",',\n",
       " '    \"build_date\" : \"2022-10-04T07:17:24.662462378Z\",',\n",
       " '    \"build_snapshot\" : false,',\n",
       " '    \"lucene_version\" : \"9.3.0\",',\n",
       " '    \"minimum_wire_compatibility_version\" : \"7.17.0\",',\n",
       " '    \"minimum_index_compatibility_version\" : \"7.0.0\"',\n",
       " '  },',\n",
       " '  \"tagline\" : \"You Know, for Search\"',\n",
       " '}',\n",
       " '']"
      ]
     },
     "execution_count": 7,
     "metadata": {},
     "output_type": "execute_result"
    }
   ],
   "source": [
    "image"
   ]
  },
  {
   "cell_type": "code",
   "execution_count": 8,
   "id": "24e0494c-0410-41fb-a1ce-3a225b3592ae",
   "metadata": {},
   "outputs": [
    {
     "data": {
      "text/plain": [
       "['    \"build_hash\" : \"42f05b9372a9a4a470db3b52817899b99a76ee73\",']"
      ]
     },
     "execution_count": 8,
     "metadata": {},
     "output_type": "execute_result"
    }
   ],
   "source": [
    "matching_elements = list(filter(lambda x: \"build_hash\" in x, image))\n",
    "matching_elements"
   ]
  },
  {
   "cell_type": "markdown",
   "id": "1ef11b3d-8479-4944-80a4-b81e4b22f110",
   "metadata": {},
   "source": [
    "# Q2: index"
   ]
  },
  {
   "cell_type": "code",
   "execution_count": 9,
   "id": "44be862a-b223-479a-b592-5e7aaae349cb",
   "metadata": {},
   "outputs": [],
   "source": [
    "es_client = Elasticsearch(\"http://localhost:9200\")"
   ]
  },
  {
   "cell_type": "code",
   "execution_count": 10,
   "id": "66a95d83-7e3a-4d80-b791-38d1686baee0",
   "metadata": {},
   "outputs": [
    {
     "data": {
      "text/plain": [
       "ObjectApiResponse({'name': '64ba05140871', 'cluster_name': 'docker-cluster', 'cluster_uuid': 'rYwY329rQr-pLJYC5fNJjA', 'version': {'number': '8.4.3', 'build_flavor': 'default', 'build_type': 'docker', 'build_hash': '42f05b9372a9a4a470db3b52817899b99a76ee73', 'build_date': '2022-10-04T07:17:24.662462378Z', 'build_snapshot': False, 'lucene_version': '9.3.0', 'minimum_wire_compatibility_version': '7.17.0', 'minimum_index_compatibility_version': '7.0.0'}, 'tagline': 'You Know, for Search'})"
      ]
     },
     "execution_count": 10,
     "metadata": {},
     "output_type": "execute_result"
    }
   ],
   "source": [
    "es_client.info()"
   ]
  },
  {
   "cell_type": "code",
   "execution_count": 11,
   "id": "9a0a0ad0-6daa-4a6c-b5ec-711110906417",
   "metadata": {},
   "outputs": [],
   "source": [
    "index_settings = {\n",
    "    \"settings\": {\n",
    "        \"number_of_shards\": 1,\n",
    "        \"number_of_replicas\": 0\n",
    "    },\n",
    "    \"mappings\": {\n",
    "        \"properties\": {\n",
    "            \"text\": {\"type\": \"text\"},\n",
    "            \"section\": {\"type\": \"text\"},\n",
    "            \"question\": {\"type\": \"text\"},\n",
    "            \"course\": {\"type\": \"keyword\"}\n",
    "        }\n",
    "    }\n",
    "}"
   ]
  },
  {
   "cell_type": "code",
   "execution_count": 12,
   "id": "350e81bd-8516-417e-b1c8-6d67e20dee6b",
   "metadata": {},
   "outputs": [],
   "source": [
    "index_name = \"course-questions\""
   ]
  },
  {
   "cell_type": "code",
   "execution_count": 13,
   "id": "bb43d99d-cc43-43a9-af98-e7aebb483930",
   "metadata": {},
   "outputs": [
    {
     "name": "stdout",
     "output_type": "stream",
     "text": [
      "course-questions already exists\n"
     ]
    },
    {
     "name": "stderr",
     "output_type": "stream",
     "text": [
      "C:\\Users\\KonuTech\\AppData\\Local\\Temp\\ipykernel_21272\\2205338497.py:7: DeprecationWarning: Passing transport options in the API method is deprecated. Use 'Elasticsearch.options()' instead.\n",
      "  es_client.indices.delete(index=index_name, ignore=[400, 404]) # uncomment if you want to remove the index.\n"
     ]
    }
   ],
   "source": [
    "from elasticsearch import Elasticsearch\n",
    "from elasticsearch import NotFoundError\n",
    "\n",
    "try:\n",
    "    es_client.indices.get(index=index_name)\n",
    "    print(f\"{index_name} already exists\")\n",
    "    es_client.indices.delete(index=index_name, ignore=[400, 404]) # uncomment if you want to remove the index.\n",
    "    response = es_client.indices.create(index=index_name, body=index_settings)\n",
    "except NotFoundError:\n",
    "    response = es_client.indices.create(index=index_name, body=index_settings)\n",
    "    print(response)"
   ]
  },
  {
   "cell_type": "code",
   "execution_count": 14,
   "id": "a94ca265-831d-4f36-8a1f-ca0fa223875e",
   "metadata": {},
   "outputs": [
    {
     "name": "stderr",
     "output_type": "stream",
     "text": [
      "100%|█████████████████████████████████| 948/948 [00:57<00:00, 16.56it/s]\n"
     ]
    }
   ],
   "source": [
    "for doc in tqdm(documents):\n",
    "    es_client.index(index=index_name, document=doc)"
   ]
  },
  {
   "cell_type": "markdown",
   "id": "26f7f0d4-3cd6-4532-ad63-754d81e602b1",
   "metadata": {},
   "source": [
    "# Q3: Top ranking result score: 84.050095"
   ]
  },
  {
   "cell_type": "code",
   "execution_count": 15,
   "id": "82d1a6d7-4cc8-4efe-ba51-c604204dcd9a",
   "metadata": {},
   "outputs": [
    {
     "data": {
      "text/plain": [
       "'How do I execute a command in a running docker container?'"
      ]
     },
     "execution_count": 15,
     "metadata": {},
     "output_type": "execute_result"
    }
   ],
   "source": [
    "query = \"How do I execute a command in a running docker container?\"\n",
    "query"
   ]
  },
  {
   "cell_type": "code",
   "execution_count": 16,
   "id": "c00353d9-1873-49b4-b708-d34d8df80ff0",
   "metadata": {},
   "outputs": [],
   "source": [
    "def elastic_search(query):\n",
    "    search_query = {\n",
    "        \"size\": 5,\n",
    "        \"query\": {\n",
    "            \"bool\": {\n",
    "                \"must\": {\n",
    "                    \"multi_match\": {\n",
    "                        \"query\": query,\n",
    "                        \"fields\": [\"question^4\", \"text\"],\n",
    "                        \"type\": \"best_fields\"\n",
    "                    }\n",
    "                },\n",
    "                # \"filter\": {\n",
    "                #     \"term\": {\n",
    "                #         \"course\": \"data-engineering-zoomcamp\"\n",
    "                #     }\n",
    "                # }\n",
    "            }\n",
    "        }\n",
    "    }\n",
    "\n",
    "    response = es_client.search(index=index_name, body=search_query)\n",
    "    \n",
    "    result_docs = []\n",
    "\n",
    "    for hit in response[\"hits\"][\"hits\"]:\n",
    "        result_docs.append(hit[\"_source\"])\n",
    "\n",
    "    # Get the score of the top-ranking result\n",
    "    if response[\"hits\"][\"hits\"]:\n",
    "        top_score = response[\"hits\"][\"hits\"][0][\"_score\"]\n",
    "        print(\"Top ranking result score:\", top_score)\n",
    "    else:\n",
    "        top_score = None\n",
    "        print(\"No results found\")\n",
    "\n",
    "    return result_docs, top_score\n"
   ]
  },
  {
   "cell_type": "code",
   "execution_count": 17,
   "id": "d4594fb8-eef6-4f17-b40c-0433340dbb84",
   "metadata": {},
   "outputs": [
    {
     "name": "stdout",
     "output_type": "stream",
     "text": [
      "Top ranking result score: 84.050095\n"
     ]
    },
    {
     "data": {
      "text/plain": [
       "84.050095"
      ]
     },
     "execution_count": 17,
     "metadata": {},
     "output_type": "execute_result"
    }
   ],
   "source": [
    "search = elastic_search(query)\n",
    "search[1]"
   ]
  },
  {
   "cell_type": "markdown",
   "id": "8dc3402c-4324-4047-a029-139c2cd6556b",
   "metadata": {},
   "source": [
    "# Q4: How do I copy files from a different folder into docker container’s working directory?"
   ]
  },
  {
   "cell_type": "code",
   "execution_count": 18,
   "id": "ec3a5537-e273-4bf2-a7e2-846f4e3f3c67",
   "metadata": {},
   "outputs": [],
   "source": [
    "def elastic_search(query):\n",
    "    search_query = {\n",
    "        \"size\": 3,\n",
    "        \"query\": {\n",
    "            \"bool\": {\n",
    "                \"must\": {\n",
    "                    \"multi_match\": {\n",
    "                        \"query\": query,\n",
    "                        \"fields\": [\"question^4\", \"text\"],\n",
    "                        \"type\": \"best_fields\"\n",
    "                    }\n",
    "                },\n",
    "                \"filter\": {\n",
    "                    \"term\": {\n",
    "                        \"course\": \"machine-learning-zoomcamp\"\n",
    "                    }\n",
    "                }\n",
    "            }\n",
    "        }\n",
    "    }\n",
    "\n",
    "    response = es_client.search(index=index_name, body=search_query)\n",
    "    print(response)\n",
    "    \n",
    "    result_docs = []\n",
    "\n",
    "    for hit in response[\"hits\"][\"hits\"]:\n",
    "        result_docs.append(hit[\"_source\"])\n",
    "\n",
    "    # Get the score of the top-ranking result\n",
    "    if response[\"hits\"][\"hits\"]:\n",
    "        top_score = response[\"hits\"][\"hits\"][0][\"_score\"]\n",
    "        print(\"Top ranking result score:\", top_score)\n",
    "    else:\n",
    "        top_score = None\n",
    "        print(\"No results found\")\n",
    "\n",
    "    return result_docs, top_score\n"
   ]
  },
  {
   "cell_type": "code",
   "execution_count": 19,
   "id": "d10fdeb1-888c-4463-bb71-232392862d82",
   "metadata": {},
   "outputs": [
    {
     "name": "stdout",
     "output_type": "stream",
     "text": [
      "{'took': 4, 'timed_out': False, '_shards': {'total': 1, 'successful': 1, 'skipped': 0, 'failed': 0}, 'hits': {'total': {'value': 345, 'relation': 'eq'}, 'max_score': 84.050095, 'hits': [{'_index': 'course-questions', '_id': '0mQaOpABDPWUvUvKpl3S', '_score': 84.050095, '_source': {'text': 'Launch the container image in interactive mode and overriding the entrypoint, so that it starts a bash command.\\ndocker run -it --entrypoint bash <image>\\nIf the container is already running, execute a command in the specific container:\\ndocker ps (find the container-id)\\ndocker exec -it <container-id> bash\\n(Marcos MJD)', 'section': '5. Deploying Machine Learning Models', 'question': 'How do I debug a docker container?', 'course': 'machine-learning-zoomcamp'}}, {'_index': 'course-questions', '_id': '8WQaOpABDPWUvUvKrV3G', '_score': 51.04628, '_source': {'text': \"You can copy files from your local machine into a Docker container using the docker cp command. Here's how to do it:\\nTo copy a file or directory from your local machine into a running Docker container, you can use the `docker cp command`. The basic syntax is as follows:\\ndocker cp /path/to/local/file_or_directory container_id:/path/in/container\\nHrithik Kumar Advani\", 'section': '5. Deploying Machine Learning Models', 'question': 'How do I copy files from my local machine to docker container?', 'course': 'machine-learning-zoomcamp'}}, {'_index': 'course-questions', '_id': '8mQaOpABDPWUvUvKrV34', '_score': 49.938507, '_source': {'text': 'You can copy files from your local machine into a Docker container using the docker cp command. Here\\'s how to do it:\\nIn the Dockerfile, you can provide the folder containing the files that you want to copy over. The basic syntax is as follows:\\nCOPY [\"src/predict.py\", \"models/xgb_model.bin\", \"./\"]\\t\\t\\t\\t\\t\\t\\t\\t\\t\\t\\tGopakumar Gopinathan', 'section': '5. Deploying Machine Learning Models', 'question': 'How do I copy files from a different folder into docker container’s working directory?', 'course': 'machine-learning-zoomcamp'}}]}}\n",
      "Top ranking result score: 84.050095\n"
     ]
    }
   ],
   "source": [
    "search = elastic_search(query)\n",
    "# search[0]"
   ]
  },
  {
   "cell_type": "markdown",
   "id": "123b548a-2c19-4642-a65a-58dc335211f8",
   "metadata": {},
   "source": [
    "# Q5: 588"
   ]
  },
  {
   "cell_type": "code",
   "execution_count": 20,
   "id": "d79beecf-78ec-4fc8-b6c6-a83c217084d6",
   "metadata": {},
   "outputs": [],
   "source": [
    "client = OpenAI()"
   ]
  },
  {
   "cell_type": "code",
   "execution_count": 21,
   "id": "a5d00e4d-1eec-40ac-8f02-b1d357e318e5",
   "metadata": {},
   "outputs": [],
   "source": [
    "def elastic_search(query):\n",
    "    search_query = {\n",
    "        \"size\": 3,\n",
    "        \"query\": {\n",
    "            \"bool\": {\n",
    "                \"must\": {\n",
    "                    \"multi_match\": {\n",
    "                        \"query\": query,\n",
    "                        \"fields\": [\"question^4\", \"text\"],\n",
    "                        \"type\": \"best_fields\"\n",
    "                    }\n",
    "                },\n",
    "                \"filter\": {\n",
    "                    \"term\": {\n",
    "                        \"course\": \"machine-learning-zoomcamp\"\n",
    "                    }\n",
    "                }\n",
    "            }\n",
    "        }\n",
    "    }\n",
    "\n",
    "    response = es_client.search(index=index_name, body=search_query)\n",
    "    # print(response)\n",
    "    \n",
    "    result_docs = []\n",
    "\n",
    "    for hit in response[\"hits\"][\"hits\"]:\n",
    "        result_docs.append(hit[\"_source\"])\n",
    "\n",
    "    # Get the score of the top-ranking result\n",
    "    # if response[\"hits\"][\"hits\"]:\n",
    "    #     top_score = response[\"hits\"][\"hits\"][0][\"_score\"]\n",
    "    #     print(\"Top ranking result score:\", top_score)\n",
    "    # else:\n",
    "    #     top_score = None\n",
    "    #     print(\"No results found\")\n",
    "\n",
    "    return result_docs\n"
   ]
  },
  {
   "cell_type": "code",
   "execution_count": 22,
   "id": "32a0554e-7673-4aeb-85cd-f1202767c8c5",
   "metadata": {},
   "outputs": [],
   "source": [
    "def build_prompt(query, search_results):\n",
    "    prompt_template = \"\"\"\n",
    "    You're a course teaching assistant. Answer the QUESTION based on the CONTEXT from the FAQ database.\n",
    "    Use only the facts from the CONTEXT when answering the QUESTION.\n",
    "    \n",
    "    QUESTION: {question}\n",
    "    \n",
    "    CONTEXT:\n",
    "    {context}\n",
    "    \"\"\".strip()\n",
    "\n",
    "    context = \"\"\n",
    "\n",
    "    for doc in search_results:\n",
    "        context = context + f\"section: {doc['section']}\\nquestion: {doc['question']}\\nanswer: {doc['text']}\\n\\n\"\n",
    "\n",
    "    prompt = prompt_template.format(\n",
    "        question=query,\n",
    "        context=context\n",
    "    ).strip()\n",
    "\n",
    "    # print(prompt)\n",
    "    \n",
    "    return prompt"
   ]
  },
  {
   "cell_type": "code",
   "execution_count": 23,
   "id": "c6abf267-9b85-453a-89da-813d6436a567",
   "metadata": {},
   "outputs": [],
   "source": [
    "def llm(prompt):\n",
    "    response = client.chat.completions.create(\n",
    "        model=\"gpt-4o\",\n",
    "        # model=\"gpt-3.5-turbo\",\n",
    "        messages=[\n",
    "            \n",
    "                {\n",
    "                    \"role\": \"user\",\n",
    "                    \"content\": prompt\n",
    "                }\n",
    "            ]\n",
    "        )\n",
    "    \n",
    "    return response.choices[0].message.content"
   ]
  },
  {
   "cell_type": "code",
   "execution_count": 24,
   "id": "26b16609-7e47-4d3b-8960-ceed3bdc1062",
   "metadata": {},
   "outputs": [],
   "source": [
    "def rag(query):\n",
    "    search_results = elastic_search(query)\n",
    "    prompt = build_prompt(query, search_results)\n",
    "    answer = llm(prompt)\n",
    "    return answer"
   ]
  },
  {
   "cell_type": "code",
   "execution_count": 25,
   "id": "9d5b63e8-92f2-4f75-83b6-c17c295486ed",
   "metadata": {},
   "outputs": [
    {
     "data": {
      "text/plain": [
       "'To execute a command in a running Docker container, you can use the `docker exec` command. Here are the steps to do so:\\n\\n1. First, find the container ID of the running container using `docker ps`:\\n    ```bash\\n    docker ps\\n    ```\\n2. Then, execute a command in the specific container using the container ID. For example, to run a bash shell, use:\\n    ```bash\\n    docker exec -it <container-id> bash\\n    ```\\n\\nThis will start an interactive bash session inside the running container.'"
      ]
     },
     "execution_count": 25,
     "metadata": {},
     "output_type": "execute_result"
    }
   ],
   "source": [
    "answer = rag(query)\n",
    "answer"
   ]
  },
  {
   "cell_type": "code",
   "execution_count": 26,
   "id": "05be27fa-ac88-4b6a-9b88-a899e2f22956",
   "metadata": {},
   "outputs": [
    {
     "data": {
      "text/plain": [
       "481"
      ]
     },
     "execution_count": 26,
     "metadata": {},
     "output_type": "execute_result"
    }
   ],
   "source": [
    "len(answer)"
   ]
  },
  {
   "cell_type": "markdown",
   "id": "638ae582-0bea-42bd-b41a-39ab48d615dd",
   "metadata": {},
   "source": [
    "# Q6: 711"
   ]
  },
  {
   "cell_type": "code",
   "execution_count": 27,
   "id": "f891badc-16ac-49f6-9ab2-844fb78a10c8",
   "metadata": {},
   "outputs": [
    {
     "data": {
      "text/plain": [
       "'You\\'re a course teaching assistant. Answer the QUESTION based on the CONTEXT from the FAQ database.\\n    Use only the facts from the CONTEXT when answering the QUESTION.\\n    \\n    QUESTION: How do I execute a command in a running docker container?\\n    \\n    CONTEXT:\\n    section: 5. Deploying Machine Learning Models\\nquestion: How do I debug a docker container?\\nanswer: Launch the container image in interactive mode and overriding the entrypoint, so that it starts a bash command.\\ndocker run -it --entrypoint bash <image>\\nIf the container is already running, execute a command in the specific container:\\ndocker ps (find the container-id)\\ndocker exec -it <container-id> bash\\n(Marcos MJD)\\n\\nsection: 5. Deploying Machine Learning Models\\nquestion: How do I copy files from my local machine to docker container?\\nanswer: You can copy files from your local machine into a Docker container using the docker cp command. Here\\'s how to do it:\\nTo copy a file or directory from your local machine into a running Docker container, you can use the `docker cp command`. The basic syntax is as follows:\\ndocker cp /path/to/local/file_or_directory container_id:/path/in/container\\nHrithik Kumar Advani\\n\\nsection: 5. Deploying Machine Learning Models\\nquestion: How do I copy files from a different folder into docker container’s working directory?\\nanswer: You can copy files from your local machine into a Docker container using the docker cp command. Here\\'s how to do it:\\nIn the Dockerfile, you can provide the folder containing the files that you want to copy over. The basic syntax is as follows:\\nCOPY [\"src/predict.py\", \"models/xgb_model.bin\", \"./\"]\\t\\t\\t\\t\\t\\t\\t\\t\\t\\t\\tGopakumar Gopinathan'"
      ]
     },
     "execution_count": 27,
     "metadata": {},
     "output_type": "execute_result"
    }
   ],
   "source": [
    "search_results = elastic_search(query)\n",
    "prompt = build_prompt(query, search_results)\n",
    "prompt"
   ]
  },
  {
   "cell_type": "code",
   "execution_count": 28,
   "id": "252b92e5-a45c-49d5-9d76-282a318c8c6d",
   "metadata": {},
   "outputs": [
    {
     "name": "stdout",
     "output_type": "stream",
     "text": [
      "Number of tokens in the query: 361\n"
     ]
    }
   ],
   "source": [
    "# Assuming this is your query\n",
    "# query = \"How do I execute a command in a running docker container?\"\n",
    "query = prompt\n",
    "\n",
    "# Get the encoding for the model\n",
    "encoding = tiktoken.encoding_for_model(\"gpt-4o\")\n",
    "\n",
    "# Encode the query to get the tokens\n",
    "tokens = encoding.encode(query)\n",
    "\n",
    "# Count the number of tokens\n",
    "num_tokens = len(tokens)\n",
    "\n",
    "print(f\"Number of tokens in the query: {num_tokens}\")\n"
   ]
  },
  {
   "cell_type": "code",
   "execution_count": 29,
   "id": "dee2608e-58f2-4266-b801-035ebe08b2f5",
   "metadata": {},
   "outputs": [
    {
     "data": {
      "text/plain": [
       "b\"You're\""
      ]
     },
     "execution_count": 29,
     "metadata": {},
     "output_type": "execute_result"
    }
   ],
   "source": [
    "encoding.decode_single_token_bytes(63842)"
   ]
  },
  {
   "cell_type": "code",
   "execution_count": null,
   "id": "92877d4d-5b69-4362-ac14-068f0027960a",
   "metadata": {},
   "outputs": [],
   "source": []
  }
 ],
 "metadata": {
  "kernelspec": {
   "display_name": "Python 3 (ipykernel)",
   "language": "python",
   "name": "python3"
  },
  "language_info": {
   "codemirror_mode": {
    "name": "ipython",
    "version": 3
   },
   "file_extension": ".py",
   "mimetype": "text/x-python",
   "name": "python",
   "nbconvert_exporter": "python",
   "pygments_lexer": "ipython3",
   "version": "3.10.12"
  }
 },
 "nbformat": 4,
 "nbformat_minor": 5
}
