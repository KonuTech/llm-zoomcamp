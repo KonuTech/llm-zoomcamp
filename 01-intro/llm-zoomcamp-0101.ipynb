{
 "cells": [
  {
   "cell_type": "code",
   "execution_count": 1,
   "id": "957c9780-454b-4e58-854e-9181fc89c52b",
   "metadata": {},
   "outputs": [
    {
     "name": "stdout",
     "output_type": "stream",
     "text": [
      "KonuTech\n"
     ]
    }
   ],
   "source": [
    "!whoami"
   ]
  },
  {
   "cell_type": "code",
   "execution_count": 2,
   "id": "7c1a71cb-860b-4529-8db6-246cc2a10cdf",
   "metadata": {},
   "outputs": [],
   "source": [
    "import os\n",
    "import pandas as pd\n",
    "from openai import OpenAI\n",
    "from dataclasses import dataclass\n",
    "import pandas as pd\n",
    "from IPython.display import display, HTML"
   ]
  },
  {
   "cell_type": "code",
   "execution_count": 3,
   "id": "b1b5d982-4ef3-4e97-afe7-bb90f83d28c5",
   "metadata": {},
   "outputs": [],
   "source": [
    "# Define the necessary data classes\n",
    "@dataclass\n",
    "class ChatCompletionMessage:\n",
    "    content: str\n",
    "    role: str\n",
    "    function_call: str = None\n",
    "    tool_calls: str = None\n",
    "\n",
    "@dataclass\n",
    "class Choice:\n",
    "    finish_reason: str\n",
    "    index: int\n",
    "    logprobs: str = None\n",
    "    message: ChatCompletionMessage = None\n",
    "\n",
    "@dataclass\n",
    "class CompletionUsage:\n",
    "    completion_tokens: int\n",
    "    prompt_tokens: int\n",
    "    total_tokens: int\n",
    "\n",
    "@dataclass\n",
    "class ChatCompletion:\n",
    "    id: str\n",
    "    choices: list\n",
    "    created: int\n",
    "    model: str\n",
    "    object: str\n",
    "    service_tier: str = None\n",
    "    system_fingerprint: str = None\n",
    "    usage: CompletionUsage = None"
   ]
  },
  {
   "cell_type": "code",
   "execution_count": 4,
   "id": "9ad13042-23a3-4fdb-9378-59b8a92a5c47",
   "metadata": {},
   "outputs": [],
   "source": [
    "# Prettify and display the output\n",
    "def prettify_output(response: ChatCompletion):\n",
    "    choices_df = pd.DataFrame([{\n",
    "        'finish_reason': choice.finish_reason,\n",
    "        'index': choice.index,\n",
    "        'logprobs': choice.logprobs,\n",
    "        'message_content': choice.message.content,\n",
    "        'message_role': choice.message.role,\n",
    "        'function_call': choice.message.function_call,\n",
    "        'tool_calls': choice.message.tool_calls\n",
    "    } for choice in response.choices])\n",
    "\n",
    "    html_content = f\"\"\"\n",
    "    <h2>Chat Completion Details</h2>\n",
    "    <p><strong>ID:</strong> {response.id}</p>\n",
    "    <p><strong>Created:</strong> {response.created}</p>\n",
    "    <p><strong>Model:</strong> {response.model}</p>\n",
    "    <p><strong>Object:</strong> {response.object}</p>\n",
    "    <h3>Choices</h3>\n",
    "    {choices_df.to_html(index=False)}\n",
    "    <h3>Usage</h3>\n",
    "    <p><strong>Completion Tokens:</strong> {response.usage.completion_tokens}</p>\n",
    "    <p><strong>Prompt Tokens:</strong> {response.usage.prompt_tokens}</p>\n",
    "    <p><strong>Total Tokens:</strong> {response.usage.total_tokens}</p>\n",
    "    \"\"\"\n",
    "    display(HTML(html_content))\n",
    "\n",
    "    return choices_df"
   ]
  },
  {
   "cell_type": "code",
   "execution_count": 5,
   "id": "c9418ea8-5078-4e86-bff0-1f25cf71c01a",
   "metadata": {},
   "outputs": [],
   "source": [
    "openai_api_key = os.getenv('OPENAI_API_KEY')"
   ]
  },
  {
   "cell_type": "code",
   "execution_count": 6,
   "id": "15fc1a5b-a8f2-4a14-a96c-dd71ec42c5b7",
   "metadata": {},
   "outputs": [],
   "source": [
    "client = OpenAI(api_key=openai_api_key)"
   ]
  },
  {
   "cell_type": "code",
   "execution_count": 7,
   "id": "0fcb385b-fc31-4cd9-b734-226e0383c3e5",
   "metadata": {},
   "outputs": [],
   "source": [
    "response = client.chat.completions.create(\n",
    "    # model=\"gpt-4o\",\n",
    "    model=\"gpt-3.5-turbo\",\n",
    "    messages=[\n",
    "        {\n",
    "            \"role\": \"user\",\n",
    "            \"content\": \"Is it too late to join the course?\"\n",
    "        }\n",
    "    ]\n",
    ")"
   ]
  },
  {
   "cell_type": "code",
   "execution_count": 8,
   "id": "a38d0d43-29c8-4287-b63f-03df37af1363",
   "metadata": {},
   "outputs": [
    {
     "data": {
      "text/plain": [
       "ChatCompletion(id='chatcmpl-9cSRiF7duemiYx5jqxYJUhfvCWdfq', choices=[Choice(finish_reason='stop', index=0, logprobs=None, message=ChatCompletionMessage(content='It depends on the course and the policies of the instructor or organization offering it. Some courses may have specific enrollment deadlines while others may allow for late registration. It is best to contact the course administrator or instructor directly to inquire about joining the course after the initial start date.', role='assistant', function_call=None, tool_calls=None))], created=1718952838, model='gpt-3.5-turbo-0125', object='chat.completion', service_tier=None, system_fingerprint=None, usage=CompletionUsage(completion_tokens=54, prompt_tokens=16, total_tokens=70))"
      ]
     },
     "execution_count": 8,
     "metadata": {},
     "output_type": "execute_result"
    }
   ],
   "source": [
    "response"
   ]
  },
  {
   "cell_type": "code",
   "execution_count": 9,
   "id": "848dabd0-9af2-4835-8a37-19e012d30855",
   "metadata": {},
   "outputs": [
    {
     "data": {
      "text/html": [
       "\n",
       "    <h2>Chat Completion Details</h2>\n",
       "    <p><strong>ID:</strong> chatcmpl-9cSRiF7duemiYx5jqxYJUhfvCWdfq</p>\n",
       "    <p><strong>Created:</strong> 1718952838</p>\n",
       "    <p><strong>Model:</strong> gpt-3.5-turbo-0125</p>\n",
       "    <p><strong>Object:</strong> chat.completion</p>\n",
       "    <h3>Choices</h3>\n",
       "    <table border=\"1\" class=\"dataframe\">\n",
       "  <thead>\n",
       "    <tr style=\"text-align: right;\">\n",
       "      <th>finish_reason</th>\n",
       "      <th>index</th>\n",
       "      <th>logprobs</th>\n",
       "      <th>message_content</th>\n",
       "      <th>message_role</th>\n",
       "      <th>function_call</th>\n",
       "      <th>tool_calls</th>\n",
       "    </tr>\n",
       "  </thead>\n",
       "  <tbody>\n",
       "    <tr>\n",
       "      <td>stop</td>\n",
       "      <td>0</td>\n",
       "      <td>None</td>\n",
       "      <td>It depends on the course and the policies of the instructor or organization offering it. Some courses may have specific enrollment deadlines while others may allow for late registration. It is best to contact the course administrator or instructor directly to inquire about joining the course after the initial start date.</td>\n",
       "      <td>assistant</td>\n",
       "      <td>None</td>\n",
       "      <td>None</td>\n",
       "    </tr>\n",
       "  </tbody>\n",
       "</table>\n",
       "    <h3>Usage</h3>\n",
       "    <p><strong>Completion Tokens:</strong> 54</p>\n",
       "    <p><strong>Prompt Tokens:</strong> 16</p>\n",
       "    <p><strong>Total Tokens:</strong> 70</p>\n",
       "    "
      ],
      "text/plain": [
       "<IPython.core.display.HTML object>"
      ]
     },
     "metadata": {},
     "output_type": "display_data"
    }
   ],
   "source": [
    "output = prettify_output(response)"
   ]
  },
  {
   "cell_type": "code",
   "execution_count": 10,
   "id": "8711e85e-c743-410a-8964-25cc6b90e535",
   "metadata": {},
   "outputs": [
    {
     "data": {
      "text/plain": [
       "'It depends on the course and the policies of the instructor or organization offering it. Some courses may have specific enrollment deadlines while others may allow for late registration. It is best to contact the course administrator or instructor directly to inquire about joining the course after the initial start date.'"
      ]
     },
     "execution_count": 10,
     "metadata": {},
     "output_type": "execute_result"
    }
   ],
   "source": [
    "output[\"message_content\"][0]"
   ]
  },
  {
   "cell_type": "code",
   "execution_count": 11,
   "id": "0c65a902-78da-4984-9d60-9c70a94d1079",
   "metadata": {},
   "outputs": [
    {
     "data": {
      "text/plain": [
       "'It depends on the course and the policies of the instructor or organization offering it. Some courses may have specific enrollment deadlines while others may allow for late registration. It is best to contact the course administrator or instructor directly to inquire about joining the course after the initial start date.'"
      ]
     },
     "execution_count": 11,
     "metadata": {},
     "output_type": "execute_result"
    }
   ],
   "source": [
    "response.choices[0].message.content"
   ]
  },
  {
   "cell_type": "code",
   "execution_count": null,
   "id": "38f3e9d5-aa4a-438f-8faa-cbd083e6fbf7",
   "metadata": {},
   "outputs": [],
   "source": []
  }
 ],
 "metadata": {
  "kernelspec": {
   "display_name": "Python 3 (ipykernel)",
   "language": "python",
   "name": "python3"
  },
  "language_info": {
   "codemirror_mode": {
    "name": "ipython",
    "version": 3
   },
   "file_extension": ".py",
   "mimetype": "text/x-python",
   "name": "python",
   "nbconvert_exporter": "python",
   "pygments_lexer": "ipython3",
   "version": "3.10.12"
  }
 },
 "nbformat": 4,
 "nbformat_minor": 5
}
