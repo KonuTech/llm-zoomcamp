{
 "cells": [
  {
   "cell_type": "code",
   "execution_count": 2,
   "id": "506fab2a-a50c-42bd-a106-c83a9d2828ea",
   "metadata": {},
   "outputs": [
    {
     "name": "stderr",
     "output_type": "stream",
     "text": [
      "--2024-06-29 16:53:00--  https://raw.githubusercontent.com/alexeygrigorev/minsearch/main/minsearch.py\n",
      "Resolving raw.githubusercontent.com (raw.githubusercontent.com)... 185.199.108.133, 185.199.110.133, 185.199.111.133, ...\n",
      "Connecting to raw.githubusercontent.com (raw.githubusercontent.com)|185.199.108.133|:443... connected.\n",
      "HTTP request sent, awaiting response... 200 OK\n",
      "Length: 3832 (3,7K) [text/plain]\n",
      "Saving to: 'minsearch.py'\n",
      "\n",
      "     0K ...                                                   100%  848K=0,004s\n",
      "\n",
      "2024-06-29 16:53:00 (848 KB/s) - 'minsearch.py' saved [3832/3832]\n",
      "\n"
     ]
    }
   ],
   "source": [
    "!rm -f minsearch.py\n",
    "!wget https://raw.githubusercontent.com/alexeygrigorev/minsearch/main/minsearch.py"
   ]
  },
  {
   "cell_type": "code",
   "execution_count": 3,
   "id": "3ac947de-effd-4b61-8792-a6d7a133f347",
   "metadata": {},
   "outputs": [
    {
     "data": {
      "text/plain": [
       "<minsearch.Index at 0x17860b635b0>"
      ]
     },
     "execution_count": 3,
     "metadata": {},
     "output_type": "execute_result"
    }
   ],
   "source": [
    "import requests \n",
    "import minsearch\n",
    "\n",
    "docs_url = 'https://github.com/DataTalksClub/llm-zoomcamp/blob/main/01-intro/documents.json?raw=1'\n",
    "docs_response = requests.get(docs_url)\n",
    "documents_raw = docs_response.json()\n",
    "\n",
    "documents = []\n",
    "\n",
    "for course in documents_raw:\n",
    "    course_name = course['course']\n",
    "\n",
    "    for doc in course['documents']:\n",
    "        doc['course'] = course_name\n",
    "        documents.append(doc)\n",
    "\n",
    "index = minsearch.Index(\n",
    "    text_fields=[\"question\", \"text\", \"section\"],\n",
    "    keyword_fields=[\"course\"]\n",
    ")\n",
    "\n",
    "index.fit(documents)"
   ]
  },
  {
   "cell_type": "code",
   "execution_count": 4,
   "id": "8f087272-b44d-4738-9ea2-175ec63a058b",
   "metadata": {},
   "outputs": [],
   "source": [
    "def search(query):\n",
    "    boost = {'question': 3.0, 'section': 0.5}\n",
    "\n",
    "    results = index.search(\n",
    "        query=query,\n",
    "        filter_dict={'course': 'data-engineering-zoomcamp'},\n",
    "        boost_dict=boost,\n",
    "        num_results=5\n",
    "    )\n",
    "\n",
    "    return results"
   ]
  },
  {
   "cell_type": "code",
   "execution_count": 5,
   "id": "742ab881-499a-4675-83c4-2013ea1377b9",
   "metadata": {},
   "outputs": [],
   "source": [
    "def build_prompt(query, search_results):\n",
    "    prompt_template = \"\"\"\n",
    "You're a course teaching assistant. Answer the QUESTION based on the CONTEXT from the FAQ database.\n",
    "Use only the facts from the CONTEXT when answering the QUESTION.\n",
    "\n",
    "QUESTION: {question}\n",
    "\n",
    "CONTEXT: \n",
    "{context}\n",
    "\"\"\".strip()\n",
    "\n",
    "    context = \"\"\n",
    "    \n",
    "    for doc in search_results:\n",
    "        context = context + f\"section: {doc['section']}\\nquestion: {doc['question']}\\nanswer: {doc['text']}\\n\\n\"\n",
    "    \n",
    "    prompt = prompt_template.format(question=query, context=context).strip()\n",
    "    return prompt\n",
    "\n",
    "def llm(prompt):\n",
    "    response = client.chat.completions.create(\n",
    "        model='phi3',\n",
    "        messages=[{\"role\": \"user\", \"content\": prompt}]\n",
    "    )\n",
    "    \n",
    "    return response.choices[0].message.content"
   ]
  },
  {
   "cell_type": "code",
   "execution_count": 6,
   "id": "fe8bff3e-b672-42be-866b-f2d9bb217106",
   "metadata": {},
   "outputs": [],
   "source": [
    "def rag(query):\n",
    "    search_results = search(query)\n",
    "    prompt = build_prompt(query, search_results)\n",
    "    answer = llm(prompt)\n",
    "    return answer"
   ]
  },
  {
   "cell_type": "code",
   "execution_count": 7,
   "id": "091a77e6-936b-448e-a04b-bad1001f5bb0",
   "metadata": {},
   "outputs": [],
   "source": [
    "from openai import OpenAI\n",
    "\n",
    "client = OpenAI(\n",
    "    base_url='http://localhost:11434/v1/',\n",
    "    api_key='ollama',\n",
    ")"
   ]
  },
  {
   "cell_type": "code",
   "execution_count": 7,
   "id": "8a8b0548-8485-414f-94ef-528911518832",
   "metadata": {},
   "outputs": [
    {
     "data": {
      "text/plain": [
       "\" This is a test message to illustrate the creation of a simple text. If there's anything specific you would like me to elaborate on or create, please let me know!\""
      ]
     },
     "execution_count": 7,
     "metadata": {},
     "output_type": "execute_result"
    }
   ],
   "source": [
    "llm('write that this is a test')"
   ]
  },
  {
   "cell_type": "code",
   "execution_count": 13,
   "id": "0534993a-ed62-41eb-a813-a93e6ac5857d",
   "metadata": {},
   "outputs": [
    {
     "data": {
      "text/plain": [
       "\" The given SQL queries are designed to create a deduplication system that removes duplicate entries in a dataset based on certain key columns. Here's a descriptive summary of what the entire process achieves:\\n\\n1. **Create Deduplication Tables**: First, two tables (deduplication_keys and destination_table) are created to store deduplicated keys (`hash`) and data respectively. The `destination_table` will eventually hold cleaned dataset with no duplicates.\\n\\n2. **Iterate Over Partition Sets**: This system operates on a partitioned table (partitioning by year, month, day, hour). For each combination of these partitions, deduplication is performed and results are inserted into the destination_table using an `OVERWRITE` clause to replace existing data with de-duplicated values.\\n\\n3. Administer Partition Set Iteration: Each partition set's rows go through a selection process where they generate hashes by concatenating their non-null columns (account number, external ID, amount, title), and then check for the presence of these hashes in the deduplication_keys table to identify duplicates.\\n\\n4. Insert Deduplicated Hash Values: All unique hash values from each partition set are inserted into the dedicated deduplication_keys table, which acts as an index or a lookup table for checking duplicates during data insertion.\\n\\n5. Data Inclusion and Insertion into Destination Table: The clean, de-duplicated dataset is then selected once more, ensuring only distinct entries based on their hash value are chosen to prevent inserting duplicate rows in the final destination_table.\\n\\n6. Deduplication System Workflows: \\n   - Initially, it deduplicates and stores unique values using `INSERT OVERWRITE` clause into partitioned dataset (destination_table).\\n   - Subsequently, hashes for each distinct row are stored in the deduplication_keys table to act as a reference.\\n   - Finally, all records with de-duplicated data and non-duplicate hash values are inserted back into the destination_table using `INSERT INTO` clause after removing duplicates.\\n\\nIn summary, these SQL queries aim to create an effective system for deduplication by separating distinct rows from a source table based on specific columns (account number, external ID, amount, and title), storing unique hashes in dedicated tables (`deduplication_keys`), and ensuring no duplicates are present within the final resultant dataset stored in `destination_table`.\""
      ]
     },
     "execution_count": 13,
     "metadata": {},
     "output_type": "execute_result"
    }
   ],
   "source": [
    "llm(\n",
    "\"\"\"\n",
    "Explain the idea behind all below queries of SQL developer. Make a descriptive summary of what the SQL developer wanted to achiave:\n",
    "\n",
    "- Create a table to store deduplicated keys (if not exists)\n",
    "CREATE TABLE IF NOT EXISTS deduplication_keys (\n",
    "    hash STRING\n",
    ");\n",
    "\n",
    "-- Iterate over each partition set (year, month, day, hour)\n",
    "INSERT OVERWRITE TABLE destination_table PARTITION (year, month, day, hour)\n",
    "SELECT \n",
    "    year,\n",
    "    month,\n",
    "    day,\n",
    "    hour,\n",
    "    account_number,\n",
    "    external_id,\n",
    "    amount,\n",
    "    title,\n",
    "    MD5(CONCAT(\n",
    "        COALESCE(account_number, ''),\n",
    "        COALESCE(external_id, ''),\n",
    "        COALESCE(amount, ''),\n",
    "        COALESCE(title, '')\n",
    "    )) AS hash\n",
    "FROM (\n",
    "    SELECT \n",
    "        year,\n",
    "        month,\n",
    "        day,\n",
    "        hour,\n",
    "        account_number,\n",
    "        external_id,\n",
    "        amount,\n",
    "        title\n",
    "    FROM source_table\n",
    ") temp\n",
    "WHERE NOT EXISTS (\n",
    "    SELECT 1\n",
    "    FROM deduplication_keys dk\n",
    "    WHERE dk.hash = MD5(CONCAT(\n",
    "        COALESCE(temp.account_number, ''),\n",
    "        COALESCE(temp.external_id, ''),\n",
    "        COALESCE(temp.amount, ''),\n",
    "        COALESCE(temp.title, '')\n",
    "    ))\n",
    ");\n",
    "\n",
    "-- Insert deduplicated hash values into deduplication_keys table\n",
    "INSERT INTO TABLE deduplication_keys\n",
    "SELECT hash\n",
    "FROM destination_table;\n",
    "\n",
    "\n",
    "\n",
    "-- Create a table to store deduplicated keys (if not exists)\n",
    "CREATE TABLE IF NOT EXISTS deduplication_keys (\n",
    "    hash STRING\n",
    ");\n",
    "\n",
    "-- Iterate over each partition set (year, month, day, hour)\n",
    "INSERT OVERWRITE TABLE destination_table PARTITION (year, month, day, hour)\n",
    "SELECT \n",
    "    year,\n",
    "    month,\n",
    "    day,\n",
    "    hour,\n",
    "    account_number,\n",
    "    external_id,\n",
    "    amount,\n",
    "    title,\n",
    "    MD5(CONCAT(account_number, external_id, amount, title)) AS hash\n",
    "FROM (\n",
    "    SELECT \n",
    "        year,\n",
    "        month,\n",
    "        day,\n",
    "        hour,\n",
    "        account_number,\n",
    "        external_id,\n",
    "        amount,\n",
    "        title\n",
    "    FROM source_table\n",
    ") temp\n",
    "WHERE NOT EXISTS (\n",
    "    SELECT 1\n",
    "    FROM deduplication_keys dk\n",
    "    WHERE dk.hash = MD5(CONCAT(temp.account_number, temp.external_id, temp.amount, temp.title))\n",
    ");\n",
    "\n",
    "-- Insert deduplicated hash values into deduplication_keys table\n",
    "INSERT INTO TABLE deduplication_keys\n",
    "SELECT dt.hash\n",
    "FROM destination_table AS dt\n",
    "LEFT JOIN deduplication_keys AS dk\n",
    "ON dt.hash = dk.hash\n",
    "WHERE dt.hash IS NULL;\n",
    "\n",
    ";\n",
    "\n",
    "\n",
    "########################\n",
    "-- Create staging table\n",
    "CREATE TABLE IF NOT EXISTS staging_destination_table (\n",
    "    year INT,\n",
    "    month INT,\n",
    "    day INT,\n",
    "    hour INT,\n",
    "    account_number STRING,\n",
    "    external_id STRING,\n",
    "    amount DECIMAL,\n",
    "    title STRING,\n",
    "    hash STRING\n",
    ");\n",
    "\n",
    "-- Deduplicate and insert into staging table\n",
    "INSERT OVERWRITE TABLE staging_destination_table\n",
    "SELECT \n",
    "    year,\n",
    "    month,\n",
    "    day,\n",
    "    hour,\n",
    "    account_number,\n",
    "    external_id,\n",
    "    amount,\n",
    "    title,\n",
    "    MD5(CONCAT(\n",
    "        COALESCE(account_number, ''),\n",
    "        COALESCE(external_id, ''),\n",
    "        COALESCE(amount, ''),\n",
    "        COALESCE(title, '')\n",
    "    )) AS hash\n",
    "FROM (\n",
    "    SELECT \n",
    "        year,\n",
    "        month,\n",
    "        day,\n",
    "        hour,\n",
    "        account_number,\n",
    "        external_id,\n",
    "        amount,\n",
    "        title\n",
    "    FROM source_table\n",
    ") temp\n",
    "WHERE NOT EXISTS (\n",
    "    SELECT 1\n",
    "    FROM deduplication_keys dk\n",
    "    WHERE dk.hash = MD5(CONCAT(\n",
    "        COALESCE(temp.account_number, ''),\n",
    "        COALESCE(temp.external_id, ''),\n",
    "        COALESCE(temp.amount, ''),\n",
    "        COALESCE(temp.title, '')\n",
    "    ))\n",
    ");\n",
    "\n",
    "-- Insert deduplicated data into final destination table\n",
    "INSERT INTO TABLE destination_table\n",
    "PARTITION (year, month, day, hour)\n",
    "SELECT \n",
    "    year,\n",
    "    month,\n",
    "    day,\n",
    "    hour,\n",
    "    account_number,\n",
    "    external_id,\n",
    "    amount,\n",
    "    title\n",
    "FROM staging_destination_table;\n",
    "\n",
    "-- Insert deduplicated hash values into deduplication_keys table\n",
    "INSERT INTO TABLE deduplication_keys\n",
    "SELECT DISTINCT hash\n",
    "FROM staging_destination_table;\n",
    "\n",
    "-- Insert deduplicated data into final destination table\n",
    "INSERT INTO TABLE destination_table\n",
    "PARTITION (year, month, day, hour)\n",
    "SELECT DISTINCT\n",
    "    year,\n",
    "    month,\n",
    "    day,\n",
    "    hour,\n",
    "    account_number,\n",
    "    external_id,\n",
    "    amount,\n",
    "    title\n",
    "FROM staging_destination_table;\n",
    "\"\"\"\n",
    ")"
   ]
  },
  {
   "cell_type": "code",
   "execution_count": 9,
   "id": "7e6c4873-731d-4c3d-bea8-d6d7dee9d336",
   "metadata": {},
   "outputs": [
    {
     "data": {
      "text/plain": [
       "\" In 1945, Warsaw, Poland experienced a series of significant and tragic events. One of the most notable is the Warsaw Uprising (Akcja Wyzwolenia warszawskiego), which occurred from August 1 to October 2, 1944. This was a large act of resistance by the Polish Home Army against the occupying German forces during World War II. The aim was to liberate Warsaw before the arrival of the Soviet Red Army; however, it ended in failure as the uprising was crushed and much of the city was destroyed.\\n\\nAfter several months following this initial uprising, on January 17, 1945, Soviet forces entered Warsaw after fierce fighting with German units. Although the Soviets were allies of the Polish government in exile, their entrance into the city led to further tensions between them and the newly established pro-Soviet provisional government installed by the Red Army.\\n\\nLater that year on August 1, 1945, a new uprising known as the Ghetto Uprising (Gwarecki Powstanie) took place within Warsaw's Jewish ghettos against Nazi forces during their final liquidation of the Warsaw ghetto. This was an earlier and separate event from the larger citywide resistance in 1944, but it remains a symbol of courage and defiance against oppression.\\n\\nIn summary, by 1945, Warsaw had been deeply scarred by warfare, with key events including both the failed uprising to expel German forces from within its city limits in 1944 and significant battles during its liberation in early 1945. The post-war period would also be marked by further conflict between different Polish factions under Soviet influence.\""
      ]
     },
     "execution_count": 9,
     "metadata": {},
     "output_type": "execute_result"
    }
   ],
   "source": [
    "llm(\n",
    "\"\"\"\n",
    "What happened in Warsaw, Poland at 1945?\n",
    "\"\"\"\n",
    ")"
   ]
  },
  {
   "cell_type": "code",
   "execution_count": 18,
   "id": "9ee527a3-3331-4f4e-b6c8-f659ffc113f5",
   "metadata": {},
   "outputs": [
    {
     "data": {
      "text/plain": [
       "' The given text is grammatically correct. However, for clarity and specificity, it could be slightly rephrased as:\\n\\n\"What occurred in Warsaw, Poland, in the year 1945?\"\\n\\nThis maintains the original meaning but adds a bit more detail on how events unfolded during that time period, assuming you\\'re referring to World War II and its aftermath.'"
      ]
     },
     "execution_count": 18,
     "metadata": {},
     "output_type": "execute_result"
    }
   ],
   "source": [
    "llm('Check grammar of following text: What happened in Warsaw, Poland at 1945?')"
   ]
  },
  {
   "cell_type": "code",
   "execution_count": 13,
   "id": "21aa255e-c971-44ca-9826-a721df3ad063",
   "metadata": {},
   "outputs": [
    {
     "name": "stdout",
     "output_type": "stream",
     "text": [
      " This statement serves as an example to verify the functionality of various systems, such as text processing software or programming functions. It's commonly used by developers during debugging sessions to ensure commands are working correctly without producing any unintended output.\n",
      "\n",
      "Here's how you might include it in different contexts:\n",
      "\n",
      "**1. Using it as a command line test in a script:**\n",
      "If writing a shell script or using command-line tools, the statement can be inserted directly to demonstrate functionality. For instance, using `echo` on Unix-like systems:\n",
      "```bash\n",
      "#!/bin/bash\n",
      "echo \"This is a test\"\n",
      "echo \"This is also a test for confirmation.\"\n",
      "```\n",
      "\n",
      "**2. Inserting it into a programming function as a placeholder or comment (in Python):**\n",
      "As a comment in code to remind future developers that the block can be replaced with actual implementation:\n",
      "```python\n",
      "def process_text(input_string):\n",
      "    # Test input: \"This is a test\"\n",
      "    print(\"Testing...\")\n",
      "    # Replace this line with your processing logic\n",
      "    return input_string.upper()  # Example operation\n",
      "```\n",
      "\n",
      "**3. Using in documentation or comments within software development code:**\n",
      "Demonstrate how the statement can be used to clarify intentions when developing software, such as in a README file or inline comment:\n",
      "```markdown\n",
      "# Test Command Functionality\n",
      "This section contains commands that serve to test system functionality.\n",
      "`echo \"This is a test\"` - A simple command to check output behavior.\n",
      "```\n",
      "\n",
      "In each case, the statement `This is a test` fulfills its role as a straightforward demonstration or placeholder within development and testing workflows.\n"
     ]
    }
   ],
   "source": [
    "print(_)"
   ]
  },
  {
   "cell_type": "code",
   "execution_count": null,
   "id": "988ece59-951a-4b32-ba3f-cb8efb66a9bb",
   "metadata": {},
   "outputs": [],
   "source": []
  }
 ],
 "metadata": {
  "kernelspec": {
   "display_name": "Python 3 (ipykernel)",
   "language": "python",
   "name": "python3"
  },
  "language_info": {
   "codemirror_mode": {
    "name": "ipython",
    "version": 3
   },
   "file_extension": ".py",
   "mimetype": "text/x-python",
   "name": "python",
   "nbconvert_exporter": "python",
   "pygments_lexer": "ipython3",
   "version": "3.9.3"
  }
 },
 "nbformat": 4,
 "nbformat_minor": 5
}
