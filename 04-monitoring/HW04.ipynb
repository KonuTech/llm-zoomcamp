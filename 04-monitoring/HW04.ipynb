{
 "cells": [
  {
   "cell_type": "code",
   "execution_count": 1,
   "id": "8e1713fb-705f-4b56-a2a6-12474852bb8b",
   "metadata": {},
   "outputs": [
    {
     "name": "stderr",
     "output_type": "stream",
     "text": [
      "/mnt/c/Users/KonuTech/llm-zoomcamp/llm-zoomcamp/.venv/lib/python3.10/site-packages/tqdm/auto.py:21: TqdmWarning: IProgress not found. Please update jupyter and ipywidgets. See https://ipywidgets.readthedocs.io/en/stable/user_install.html\n",
      "  from .autonotebook import tqdm as notebook_tqdm\n"
     ]
    }
   ],
   "source": [
    "import pandas as pd\n",
    "from tqdm.auto import tqdm"
   ]
  },
  {
   "cell_type": "code",
   "execution_count": 2,
   "id": "0ae26868-880a-48d9-9496-9e6951687dff",
   "metadata": {},
   "outputs": [
    {
     "name": "stdout",
     "output_type": "stream",
     "text": [
      "Numpy Array:\n",
      "[0.       0.000012 0.012346]\n"
     ]
    }
   ],
   "source": [
    "import numpy as np\n",
    "\n",
    "# Set numpy to suppress scientific notation and control precision\n",
    "np.set_printoptions(suppress=True, precision=6)\n",
    "\n",
    "# Test array\n",
    "arr = np.array([1.23456789e-10, 1.23456789e-5, 1.23456789e-2])\n",
    "print(\"Numpy Array:\")\n",
    "print(arr)\n"
   ]
  },
  {
   "cell_type": "code",
   "execution_count": 3,
   "id": "1e9733f8-a35b-41ea-9ad3-a5c0e9392cb5",
   "metadata": {},
   "outputs": [],
   "source": [
    "import os"
   ]
  },
  {
   "cell_type": "code",
   "execution_count": 4,
   "id": "536a82b5-c27d-4942-a94e-ce3c8a265d05",
   "metadata": {},
   "outputs": [],
   "source": [
    "model_name= \"multi-qa-mpnet-base-dot-v1\""
   ]
  },
  {
   "cell_type": "code",
   "execution_count": 5,
   "id": "10120747-baa3-4124-9714-1292b93070d4",
   "metadata": {},
   "outputs": [],
   "source": [
    "from sentence_transformers import SentenceTransformer\n",
    "\n",
    "model_name = 'multi-qa-MiniLM-L6-cos-v1'\n",
    "model = SentenceTransformer(model_name)"
   ]
  },
  {
   "cell_type": "code",
   "execution_count": 6,
   "id": "51ce0140-0d1a-4f2c-9175-fef09ec52dfd",
   "metadata": {},
   "outputs": [
    {
     "data": {
      "text/plain": [
       "'/mnt/c/Users/KonuTech/llm-zoomcamp/llm-zoomcamp/04-monitoring'"
      ]
     },
     "execution_count": 6,
     "metadata": {},
     "output_type": "execute_result"
    }
   ],
   "source": [
    "os.getcwd()"
   ]
  },
  {
   "cell_type": "code",
   "execution_count": 7,
   "id": "c8a794cf-3002-46b4-b53c-c2c38f0e8031",
   "metadata": {},
   "outputs": [],
   "source": [
    "results = '/mnt/c/Users/KonuTech/llm-zoomcamp/llm-zoomcamp/04-monitoring/data/results-gpt4o-mini.csv'"
   ]
  },
  {
   "cell_type": "code",
   "execution_count": 8,
   "id": "741c8513-51b2-4021-9e14-ef4e74760925",
   "metadata": {},
   "outputs": [],
   "source": [
    "df = pd.read_csv(results)"
   ]
  },
  {
   "cell_type": "code",
   "execution_count": 9,
   "id": "f27fc944-af62-428c-93af-843388895c03",
   "metadata": {},
   "outputs": [],
   "source": [
    "# df[:300]"
   ]
  },
  {
   "cell_type": "markdown",
   "id": "30f18b3d-2456-417e-a48c-b450379e652a",
   "metadata": {},
   "source": [
    "# Q1:"
   ]
  },
  {
   "cell_type": "code",
   "execution_count": 10,
   "id": "962a9445-1ec7-413f-afc6-d0638bc51642",
   "metadata": {},
   "outputs": [],
   "source": [
    "answer_llm = df.iloc[0].answer_llm"
   ]
  },
  {
   "cell_type": "code",
   "execution_count": 11,
   "id": "e2d4fda9-15fe-466d-ba5a-42cbf02d171e",
   "metadata": {},
   "outputs": [
    {
     "data": {
      "text/plain": [
       "'You can sign up for the course by visiting the course page at [http://mlzoomcamp.com/](http://mlzoomcamp.com/).'"
      ]
     },
     "execution_count": 11,
     "metadata": {},
     "output_type": "execute_result"
    }
   ],
   "source": [
    "answer_llm"
   ]
  },
  {
   "cell_type": "code",
   "execution_count": 12,
   "id": "d9d86c2b-a1b9-406e-9b8b-eeef4b3c5510",
   "metadata": {},
   "outputs": [
    {
     "data": {
      "text/plain": [
       "array([-0.015224, -0.077747, -0.009609,  0.0102  , -0.024744,  0.033753,\n",
       "       -0.09562 , -0.030484, -0.105333,  0.003071,  0.046147, -0.006697,\n",
       "        0.012337, -0.007615,  0.044528, -0.012739,  0.01017 , -0.01208 ,\n",
       "        0.043755, -0.055053, -0.010847, -0.028431, -0.032893,  0.024828,\n",
       "        0.022821, -0.03023 ,  0.019501,  0.056183, -0.021423, -0.038149,\n",
       "       -0.015333, -0.012188,  0.065007,  0.020174,  0.057469,  0.063441,\n",
       "        0.025594,  0.002886, -0.063613, -0.012482, -0.016234, -0.032075,\n",
       "        0.062827,  0.051422,  0.060449,  0.042878, -0.007704, -0.038713,\n",
       "        0.080526,  0.068665,  0.002594, -0.072757,  0.002756, -0.028536,\n",
       "       -0.05333 ,  0.070403,  0.026196,  0.031028, -0.038723,  0.012589,\n",
       "       -0.099994, -0.09504 , -0.083946,  0.047963, -0.045295,  0.042159,\n",
       "       -0.03426 ,  0.125731,  0.104514, -0.095115, -0.002561, -0.051539,\n",
       "       -0.023379,  0.058121,  0.069549,  0.036254, -0.012421,  0.03648 ,\n",
       "        0.106596,  0.0599  , -0.005986,  0.034055,  0.046717,  0.018392,\n",
       "        0.036896, -0.052243,  0.068424,  0.063695,  0.053912,  0.017831,\n",
       "        0.006338,  0.038946, -0.10312 ,  0.036428, -0.069269,  0.019189,\n",
       "       -0.023112, -0.055168,  0.000929,  0.00912 , -0.014865, -0.004095,\n",
       "        0.02344 ,  0.024242, -0.010285, -0.028197,  0.065211,  0.074951,\n",
       "        0.058885, -0.018442,  0.031015,  0.056751,  0.046681, -0.010477,\n",
       "        0.048043,  0.011199, -0.000864,  0.031667,  0.054303, -0.02848 ,\n",
       "       -0.078975,  0.032344, -0.002089, -0.095465, -0.026688, -0.030198,\n",
       "       -0.08238 ,  0.      ,  0.013143, -0.041009, -0.015101,  0.010662,\n",
       "        0.055951, -0.056463,  0.10138 , -0.013357, -0.068233, -0.007753,\n",
       "        0.025727,  0.013998,  0.027568,  0.015141,  0.053974, -0.104123,\n",
       "        0.001415, -0.027851,  0.006908,  0.021191, -0.019331, -0.085012,\n",
       "       -0.003762, -0.094423, -0.023788,  0.041945,  0.036103,  0.06684 ,\n",
       "        0.094919,  0.031435,  0.106596, -0.051235, -0.132192, -0.021539,\n",
       "       -0.002154,  0.045086, -0.017655,  0.005669,  0.022503, -0.026522,\n",
       "       -0.028235, -0.043719, -0.032259, -0.043356, -0.026649, -0.005914,\n",
       "        0.059465, -0.049041,  0.172195,  0.033706, -0.029892, -0.089186,\n",
       "       -0.104723, -0.012536,  0.053844, -0.036461,  0.052122,  0.048423,\n",
       "       -0.054128, -0.063796, -0.018949,  0.015096, -0.033539,  0.065548,\n",
       "        0.004889, -0.069562, -0.035403, -0.043817,  0.045766, -0.058254,\n",
       "        0.019304, -0.019191,  0.002626, -0.030856,  0.035722,  0.012439,\n",
       "       -0.073126, -0.025964,  0.020056,  0.061015, -0.026583,  0.015404,\n",
       "       -0.000266,  0.0448  , -0.046067, -0.042161, -0.019028, -0.005587,\n",
       "       -0.004612, -0.038214, -0.09663 , -0.02086 , -0.031529,  0.077375,\n",
       "       -0.053144, -0.      ,  0.033686,  0.051917,  0.036619,  0.020511,\n",
       "        0.032179,  0.037674,  0.032162,  0.012754, -0.000134,  0.016662,\n",
       "       -0.09251 ,  0.050914, -0.022225,  0.033435,  0.011984, -0.016302,\n",
       "       -0.036498,  0.07572 , -0.017144, -0.020814, -0.04441 ,  0.040065,\n",
       "       -0.012911, -0.024204,  0.014733, -0.027555,  0.080919,  0.058481,\n",
       "        0.020274, -0.020348,  0.072563, -0.017453,  0.030906,  0.003441,\n",
       "        0.015025, -0.015556,  0.065471, -0.019341, -0.02012 ,  0.012336,\n",
       "        0.080984, -0.059814, -0.001029, -0.099234, -0.007368, -0.031244,\n",
       "        0.100969,  0.002161, -0.075016,  0.054167, -0.091289, -0.074674,\n",
       "        0.000896, -0.034946,  0.009919,  0.016913,  0.021199, -0.015553,\n",
       "        0.030353,  0.050167, -0.046928, -0.024413, -0.017701,  0.05575 ,\n",
       "       -0.014002,  0.065641,  0.014867,  0.084611, -0.129401,  0.049479,\n",
       "       -0.108752, -0.006455,  0.066248, -0.078105,  0.018247, -0.094732,\n",
       "        0.046361,  0.099658, -0.048816, -0.082669,  0.059659,  0.017445,\n",
       "       -0.051239,  0.052896,  0.014317,  0.054877,  0.015263, -0.005752,\n",
       "        0.007488,  0.022546,  0.016733,  0.038284,  0.071317,  0.002154,\n",
       "        0.032272, -0.      , -0.029347, -0.007768, -0.000172,  0.015934,\n",
       "       -0.074413,  0.123075, -0.053997,  0.031744,  0.0262  ,  0.101323,\n",
       "       -0.071547, -0.108443, -0.073794,  0.00843 , -0.007901, -0.003451,\n",
       "        0.015959,  0.100581, -0.001591,  0.000319, -0.035358,  0.033709,\n",
       "        0.043376,  0.0405  , -0.060829, -0.00791 ,  0.00765 ,  0.034142,\n",
       "       -0.036672, -0.033795, -0.043909,  0.089473,  0.033541, -0.029697,\n",
       "       -0.047972, -0.076278, -0.05665 , -0.001075,  0.058771,  0.052024,\n",
       "       -0.098968,  0.069204,  0.038206,  0.003094,  0.093918,  0.090635,\n",
       "       -0.024851, -0.045053, -0.023935,  0.091504, -0.033565,  0.032801,\n",
       "        0.002905, -0.092483, -0.00777 ,  0.12858 ,  0.022639, -0.058368,\n",
       "       -0.007225,  0.009684, -0.06091 , -0.12698 , -0.074899, -0.0329  ],\n",
       "      dtype=float32)"
      ]
     },
     "execution_count": 12,
     "metadata": {},
     "output_type": "execute_result"
    }
   ],
   "source": [
    "model.encode(answer_llm)"
   ]
  },
  {
   "cell_type": "markdown",
   "id": "58a00bc9-9e88-4771-b9b7-301d716e3cbd",
   "metadata": {},
   "source": [
    "# Q2:"
   ]
  },
  {
   "cell_type": "code",
   "execution_count": 13,
   "id": "6b21d660-cd02-4af8-bc45-326c83f53569",
   "metadata": {},
   "outputs": [
    {
     "name": "stdout",
     "output_type": "stream",
     "text": [
      "answer_llm,answer_orig,document,question,course\n",
      "You can sign up for the course by visiting the course page at [http://mlzoomcamp.com/](http://mlzoomcamp.com/).,\"Machine Learning Zoomcamp FAQ\n",
      "The purpose of this document is to capture frequently asked technical questions.\n",
      "We did this for our data engineering course and it worked quite well. Check this document for inspiration on how to structure your questions and answers:\n",
      "Data Engineering Zoomcamp FAQ\n",
      "In the course GitHub repository there’s a link. Here it is: https://airtable.com/shryxwLd0COOEaqXo\n",
      "work\",0227b872,Where can I sign up for the course?,machine-learning-zoomcamp\n",
      "You can sign up using the link provided in the course GitHub repository: [https://airtable.com/shryxwLd0COOEaqXo](https://airtable.com/shryxwLd0COOEaqXo).,\"Machine Learning Zoomcamp FAQ\n",
      "The purpose of this document is to capture frequently asked technical questions.\n",
      "We did this for our data engineering course and it worked quite well. Check this document for inspiration on how to structure your questions and answers:\n"
     ]
    },
    {
     "name": "stderr",
     "output_type": "stream",
     "text": [
      "huggingface/tokenizers: The current process just got forked, after parallelism has already been used. Disabling parallelism to avoid deadlocks...\n",
      "To disable this warning, you can either:\n",
      "\t- Avoid using `tokenizers` before the fork if possible\n",
      "\t- Explicitly set the environment variable TOKENIZERS_PARALLELISM=(true | false)\n"
     ]
    }
   ],
   "source": [
    "!head data/results-gpt4o-mini.csv"
   ]
  },
  {
   "cell_type": "code",
   "execution_count": 14,
   "id": "8593cca8-4cee-4748-b8ec-869c1805f4b2",
   "metadata": {},
   "outputs": [],
   "source": [
    "results_gpt4o_mini = df.to_dict(orient='records')\n",
    "# results_gpt4o_mini"
   ]
  },
  {
   "cell_type": "code",
   "execution_count": 15,
   "id": "3e18723f-c69b-4c54-acc0-dedd7904e5a8",
   "metadata": {},
   "outputs": [
    {
     "data": {
      "text/plain": [
       "{'answer_llm': 'You can sign up for the course by visiting the course page at [http://mlzoomcamp.com/](http://mlzoomcamp.com/).',\n",
       " 'answer_orig': 'Machine Learning Zoomcamp FAQ\\nThe purpose of this document is to capture frequently asked technical questions.\\nWe did this for our data engineering course and it worked quite well. Check this document for inspiration on how to structure your questions and answers:\\nData Engineering Zoomcamp FAQ\\nIn the course GitHub repository there’s a link. Here it is: https://airtable.com/shryxwLd0COOEaqXo\\nwork',\n",
       " 'document': '0227b872',\n",
       " 'question': 'Where can I sign up for the course?',\n",
       " 'course': 'machine-learning-zoomcamp'}"
      ]
     },
     "execution_count": 15,
     "metadata": {},
     "output_type": "execute_result"
    }
   ],
   "source": [
    "record = results_gpt4o_mini[0]\n",
    "record"
   ]
  },
  {
   "cell_type": "code",
   "execution_count": 16,
   "id": "2aa6dc30-c454-49f3-beb1-182b6e8c55a1",
   "metadata": {},
   "outputs": [],
   "source": [
    "def compute_similarity(record):\n",
    "    answer_orig = record['answer_orig']\n",
    "    answer_llm = record['answer_llm']\n",
    "    \n",
    "    v_llm = model.encode(answer_llm)\n",
    "    v_orig = model.encode(answer_orig)\n",
    "    \n",
    "    return v_llm.dot(v_orig)"
   ]
  },
  {
   "cell_type": "code",
   "execution_count": null,
   "id": "9f33d397-25b5-41d8-bd10-53c16a3251a8",
   "metadata": {},
   "outputs": [],
   "source": []
  },
  {
   "cell_type": "code",
   "execution_count": 17,
   "id": "4f7a7f46-5bd6-46c5-8324-16a2712346f9",
   "metadata": {},
   "outputs": [
    {
     "name": "stderr",
     "output_type": "stream",
     "text": [
      "100%|███████████████████████████| 1830/1830 [00:29<00:00, 62.67it/s]\n"
     ]
    }
   ],
   "source": [
    "similarity = []\n",
    "\n",
    "for record in tqdm(results_gpt4o_mini):\n",
    "    sim = compute_similarity(record)\n",
    "    similarity.append(sim)"
   ]
  },
  {
   "cell_type": "code",
   "execution_count": 18,
   "id": "0f29daf2-375d-4403-ae1d-83b1f17716cb",
   "metadata": {},
   "outputs": [
    {
     "data": {
      "text/plain": [
       "count    1830.000000\n",
       "mean        0.680332\n",
       "std         0.215962\n",
       "min        -0.141910\n",
       "25%         0.585866\n",
       "50%         0.733998\n",
       "75%         0.836750\n",
       "max         0.982701\n",
       "Name: cosine, dtype: float64"
      ]
     },
     "execution_count": 18,
     "metadata": {},
     "output_type": "execute_result"
    }
   ],
   "source": [
    "df['cosine'] = similarity\n",
    "df['cosine'].describe()"
   ]
  },
  {
   "cell_type": "code",
   "execution_count": 19,
   "id": "ea4c269f-1c7b-4357-a9ed-0f91ab5a5582",
   "metadata": {},
   "outputs": [
    {
     "data": {
      "text/html": [
       "<div>\n",
       "<style scoped>\n",
       "    .dataframe tbody tr th:only-of-type {\n",
       "        vertical-align: middle;\n",
       "    }\n",
       "\n",
       "    .dataframe tbody tr th {\n",
       "        vertical-align: top;\n",
       "    }\n",
       "\n",
       "    .dataframe thead th {\n",
       "        text-align: right;\n",
       "    }\n",
       "</style>\n",
       "<table border=\"1\" class=\"dataframe\">\n",
       "  <thead>\n",
       "    <tr style=\"text-align: right;\">\n",
       "      <th></th>\n",
       "      <th>answer_llm</th>\n",
       "      <th>answer_orig</th>\n",
       "      <th>document</th>\n",
       "      <th>question</th>\n",
       "      <th>course</th>\n",
       "      <th>cosine</th>\n",
       "    </tr>\n",
       "  </thead>\n",
       "  <tbody>\n",
       "    <tr>\n",
       "      <th>0</th>\n",
       "      <td>You can sign up for the course by visiting the...</td>\n",
       "      <td>Machine Learning Zoomcamp FAQ\\nThe purpose of ...</td>\n",
       "      <td>0227b872</td>\n",
       "      <td>Where can I sign up for the course?</td>\n",
       "      <td>machine-learning-zoomcamp</td>\n",
       "      <td>0.388595</td>\n",
       "    </tr>\n",
       "    <tr>\n",
       "      <th>1</th>\n",
       "      <td>You can sign up using the link provided in the...</td>\n",
       "      <td>Machine Learning Zoomcamp FAQ\\nThe purpose of ...</td>\n",
       "      <td>0227b872</td>\n",
       "      <td>Can you provide a link to sign up?</td>\n",
       "      <td>machine-learning-zoomcamp</td>\n",
       "      <td>0.298360</td>\n",
       "    </tr>\n",
       "    <tr>\n",
       "      <th>2</th>\n",
       "      <td>Yes, there is an FAQ for the Machine Learning ...</td>\n",
       "      <td>Machine Learning Zoomcamp FAQ\\nThe purpose of ...</td>\n",
       "      <td>0227b872</td>\n",
       "      <td>Is there an FAQ for this Machine Learning course?</td>\n",
       "      <td>machine-learning-zoomcamp</td>\n",
       "      <td>0.583048</td>\n",
       "    </tr>\n",
       "    <tr>\n",
       "      <th>3</th>\n",
       "      <td>The context does not provide any specific info...</td>\n",
       "      <td>Machine Learning Zoomcamp FAQ\\nThe purpose of ...</td>\n",
       "      <td>0227b872</td>\n",
       "      <td>Does this course have a GitHub repository for ...</td>\n",
       "      <td>machine-learning-zoomcamp</td>\n",
       "      <td>-0.019481</td>\n",
       "    </tr>\n",
       "    <tr>\n",
       "      <th>4</th>\n",
       "      <td>To structure your questions and answers for th...</td>\n",
       "      <td>Machine Learning Zoomcamp FAQ\\nThe purpose of ...</td>\n",
       "      <td>0227b872</td>\n",
       "      <td>How can I structure my questions and answers f...</td>\n",
       "      <td>machine-learning-zoomcamp</td>\n",
       "      <td>0.358467</td>\n",
       "    </tr>\n",
       "    <tr>\n",
       "      <th>...</th>\n",
       "      <td>...</td>\n",
       "      <td>...</td>\n",
       "      <td>...</td>\n",
       "      <td>...</td>\n",
       "      <td>...</td>\n",
       "      <td>...</td>\n",
       "    </tr>\n",
       "    <tr>\n",
       "      <th>1825</th>\n",
       "      <td>Some suggested titles for listing the Machine ...</td>\n",
       "      <td>I’ve seen LinkedIn users list DataTalksClub as...</td>\n",
       "      <td>c6a22665</td>\n",
       "      <td>What are some suggested titles for listing the...</td>\n",
       "      <td>machine-learning-zoomcamp</td>\n",
       "      <td>0.620892</td>\n",
       "    </tr>\n",
       "    <tr>\n",
       "      <th>1826</th>\n",
       "      <td>It is best advised that you do not list the Ma...</td>\n",
       "      <td>I’ve seen LinkedIn users list DataTalksClub as...</td>\n",
       "      <td>c6a22665</td>\n",
       "      <td>Should I list the Machine Learning Zoomcamp ex...</td>\n",
       "      <td>machine-learning-zoomcamp</td>\n",
       "      <td>0.730319</td>\n",
       "    </tr>\n",
       "    <tr>\n",
       "      <th>1827</th>\n",
       "      <td>You can incorporate your Machine Learning Zoom...</td>\n",
       "      <td>I’ve seen LinkedIn users list DataTalksClub as...</td>\n",
       "      <td>c6a22665</td>\n",
       "      <td>In which LinkedIn sections can I incorporate m...</td>\n",
       "      <td>machine-learning-zoomcamp</td>\n",
       "      <td>0.679815</td>\n",
       "    </tr>\n",
       "    <tr>\n",
       "      <th>1828</th>\n",
       "      <td>The advice on including a project link in a CV...</td>\n",
       "      <td>I’ve seen LinkedIn users list DataTalksClub as...</td>\n",
       "      <td>c6a22665</td>\n",
       "      <td>Who gave advice on including a project link in...</td>\n",
       "      <td>machine-learning-zoomcamp</td>\n",
       "      <td>0.355928</td>\n",
       "    </tr>\n",
       "    <tr>\n",
       "      <th>1829</th>\n",
       "      <td>The suggestion to showcase progress through Li...</td>\n",
       "      <td>I’ve seen LinkedIn users list DataTalksClub as...</td>\n",
       "      <td>c6a22665</td>\n",
       "      <td>Who suggested showcasing progress through Link...</td>\n",
       "      <td>machine-learning-zoomcamp</td>\n",
       "      <td>0.318145</td>\n",
       "    </tr>\n",
       "  </tbody>\n",
       "</table>\n",
       "<p>1830 rows × 6 columns</p>\n",
       "</div>"
      ],
      "text/plain": [
       "                                             answer_llm  \\\n",
       "0     You can sign up for the course by visiting the...   \n",
       "1     You can sign up using the link provided in the...   \n",
       "2     Yes, there is an FAQ for the Machine Learning ...   \n",
       "3     The context does not provide any specific info...   \n",
       "4     To structure your questions and answers for th...   \n",
       "...                                                 ...   \n",
       "1825  Some suggested titles for listing the Machine ...   \n",
       "1826  It is best advised that you do not list the Ma...   \n",
       "1827  You can incorporate your Machine Learning Zoom...   \n",
       "1828  The advice on including a project link in a CV...   \n",
       "1829  The suggestion to showcase progress through Li...   \n",
       "\n",
       "                                            answer_orig  document  \\\n",
       "0     Machine Learning Zoomcamp FAQ\\nThe purpose of ...  0227b872   \n",
       "1     Machine Learning Zoomcamp FAQ\\nThe purpose of ...  0227b872   \n",
       "2     Machine Learning Zoomcamp FAQ\\nThe purpose of ...  0227b872   \n",
       "3     Machine Learning Zoomcamp FAQ\\nThe purpose of ...  0227b872   \n",
       "4     Machine Learning Zoomcamp FAQ\\nThe purpose of ...  0227b872   \n",
       "...                                                 ...       ...   \n",
       "1825  I’ve seen LinkedIn users list DataTalksClub as...  c6a22665   \n",
       "1826  I’ve seen LinkedIn users list DataTalksClub as...  c6a22665   \n",
       "1827  I’ve seen LinkedIn users list DataTalksClub as...  c6a22665   \n",
       "1828  I’ve seen LinkedIn users list DataTalksClub as...  c6a22665   \n",
       "1829  I’ve seen LinkedIn users list DataTalksClub as...  c6a22665   \n",
       "\n",
       "                                               question  \\\n",
       "0                   Where can I sign up for the course?   \n",
       "1                    Can you provide a link to sign up?   \n",
       "2     Is there an FAQ for this Machine Learning course?   \n",
       "3     Does this course have a GitHub repository for ...   \n",
       "4     How can I structure my questions and answers f...   \n",
       "...                                                 ...   \n",
       "1825  What are some suggested titles for listing the...   \n",
       "1826  Should I list the Machine Learning Zoomcamp ex...   \n",
       "1827  In which LinkedIn sections can I incorporate m...   \n",
       "1828  Who gave advice on including a project link in...   \n",
       "1829  Who suggested showcasing progress through Link...   \n",
       "\n",
       "                         course    cosine  \n",
       "0     machine-learning-zoomcamp  0.388595  \n",
       "1     machine-learning-zoomcamp  0.298360  \n",
       "2     machine-learning-zoomcamp  0.583048  \n",
       "3     machine-learning-zoomcamp -0.019481  \n",
       "4     machine-learning-zoomcamp  0.358467  \n",
       "...                         ...       ...  \n",
       "1825  machine-learning-zoomcamp  0.620892  \n",
       "1826  machine-learning-zoomcamp  0.730319  \n",
       "1827  machine-learning-zoomcamp  0.679815  \n",
       "1828  machine-learning-zoomcamp  0.355928  \n",
       "1829  machine-learning-zoomcamp  0.318145  \n",
       "\n",
       "[1830 rows x 6 columns]"
      ]
     },
     "execution_count": 19,
     "metadata": {},
     "output_type": "execute_result"
    }
   ],
   "source": [
    "df"
   ]
  },
  {
   "cell_type": "markdown",
   "id": "1590e43e-d0e0-4c7c-ab8f-459f004f58e9",
   "metadata": {},
   "source": [
    "# Q3:"
   ]
  },
  {
   "cell_type": "code",
   "execution_count": 20,
   "id": "0828e69b-d389-4dea-9aff-afe0dedf559e",
   "metadata": {},
   "outputs": [],
   "source": [
    "import numpy as np\n",
    "\n",
    "def compute_similarity_normalized(record):\n",
    "    answer_orig = record['answer_orig']\n",
    "    answer_llm = record['answer_llm']\n",
    "    \n",
    "    # Encode the answers to get the embeddings\n",
    "    v_llm = model.encode(answer_llm)\n",
    "    v_orig = model.encode(answer_orig)\n",
    "    \n",
    "    # Normalize the vectors\n",
    "    norm_llm = np.sqrt((v_llm * v_llm).sum())\n",
    "    norm_orig = np.sqrt((v_orig * v_orig).sum())\n",
    "    \n",
    "    v_llm_norm = v_llm / norm_llm\n",
    "    v_orig_norm = v_orig / norm_orig\n",
    "    \n",
    "    # Compute the dot product of the normalized vectors\n",
    "    similarity = v_llm_norm.dot(v_orig_norm)\n",
    "    \n",
    "    return similarity\n"
   ]
  },
  {
   "cell_type": "code",
   "execution_count": 21,
   "id": "5b3d4af4-fcb2-4fd4-b37a-8cb1dc530aeb",
   "metadata": {},
   "outputs": [],
   "source": [
    "import numpy as np\n",
    "\n",
    "def compute_similarity_normalized(record):\n",
    "    answer_orig = record['answer_orig']\n",
    "    answer_llm = record['answer_llm']\n",
    "    \n",
    "    # Encode the answers to get the embeddings\n",
    "    v_llm = model.encode(answer_llm)\n",
    "    v_orig = model.encode(answer_orig)\n",
    "    \n",
    "    # Normalize the vectors\n",
    "    norm_llm = np.sqrt((v_llm * v_llm).sum())\n",
    "    norm_orig = np.sqrt((v_orig * v_orig).sum())\n",
    "    \n",
    "    v_llm_norm = v_llm / norm_llm\n",
    "    v_orig_norm = v_orig / norm_orig\n",
    "    \n",
    "    # Compute the dot product of the normalized vectors\n",
    "    cosine_similarity = v_llm_norm.dot(v_orig_norm)\n",
    "    \n",
    "    # Ensure the result is within [0, 1]\n",
    "    similarity = (cosine_similarity + 1) / 2\n",
    "    \n",
    "    return similarity\n"
   ]
  },
  {
   "cell_type": "code",
   "execution_count": 22,
   "id": "235b8a7e-c7b4-4b48-8550-acdfc596db3b",
   "metadata": {},
   "outputs": [
    {
     "name": "stderr",
     "output_type": "stream",
     "text": [
      "100%|███████████████████████████| 1830/1830 [00:31<00:00, 58.51it/s]\n"
     ]
    }
   ],
   "source": [
    "similarity_normalized = []\n",
    "\n",
    "for record in tqdm(results_gpt4o_mini):\n",
    "    sim = compute_similarity_normalized(record)\n",
    "    similarity_normalized.append(sim)"
   ]
  },
  {
   "cell_type": "code",
   "execution_count": 23,
   "id": "d6e0165b-08f0-4784-9c11-0db91f59c642",
   "metadata": {},
   "outputs": [
    {
     "data": {
      "text/plain": [
       "count    1830.000000\n",
       "mean        0.840166\n",
       "std         0.107981\n",
       "min         0.429045\n",
       "25%         0.792933\n",
       "50%         0.866999\n",
       "75%         0.918375\n",
       "max         0.991351\n",
       "Name: cosine_normalized, dtype: float64"
      ]
     },
     "execution_count": 23,
     "metadata": {},
     "output_type": "execute_result"
    }
   ],
   "source": [
    "df['cosine_normalized'] = similarity_normalized\n",
    "df['cosine_normalized'].describe()"
   ]
  },
  {
   "cell_type": "code",
   "execution_count": 24,
   "id": "c5aa9660-6ab0-4085-b76a-fceeb7667d1c",
   "metadata": {},
   "outputs": [
    {
     "data": {
      "text/html": [
       "<div>\n",
       "<style scoped>\n",
       "    .dataframe tbody tr th:only-of-type {\n",
       "        vertical-align: middle;\n",
       "    }\n",
       "\n",
       "    .dataframe tbody tr th {\n",
       "        vertical-align: top;\n",
       "    }\n",
       "\n",
       "    .dataframe thead th {\n",
       "        text-align: right;\n",
       "    }\n",
       "</style>\n",
       "<table border=\"1\" class=\"dataframe\">\n",
       "  <thead>\n",
       "    <tr style=\"text-align: right;\">\n",
       "      <th></th>\n",
       "      <th>answer_llm</th>\n",
       "      <th>answer_orig</th>\n",
       "      <th>document</th>\n",
       "      <th>question</th>\n",
       "      <th>course</th>\n",
       "      <th>cosine</th>\n",
       "      <th>cosine_normalized</th>\n",
       "    </tr>\n",
       "  </thead>\n",
       "  <tbody>\n",
       "    <tr>\n",
       "      <th>0</th>\n",
       "      <td>You can sign up for the course by visiting the...</td>\n",
       "      <td>Machine Learning Zoomcamp FAQ\\nThe purpose of ...</td>\n",
       "      <td>0227b872</td>\n",
       "      <td>Where can I sign up for the course?</td>\n",
       "      <td>machine-learning-zoomcamp</td>\n",
       "      <td>0.388595</td>\n",
       "      <td>0.694297</td>\n",
       "    </tr>\n",
       "    <tr>\n",
       "      <th>1</th>\n",
       "      <td>You can sign up using the link provided in the...</td>\n",
       "      <td>Machine Learning Zoomcamp FAQ\\nThe purpose of ...</td>\n",
       "      <td>0227b872</td>\n",
       "      <td>Can you provide a link to sign up?</td>\n",
       "      <td>machine-learning-zoomcamp</td>\n",
       "      <td>0.298360</td>\n",
       "      <td>0.649180</td>\n",
       "    </tr>\n",
       "    <tr>\n",
       "      <th>2</th>\n",
       "      <td>Yes, there is an FAQ for the Machine Learning ...</td>\n",
       "      <td>Machine Learning Zoomcamp FAQ\\nThe purpose of ...</td>\n",
       "      <td>0227b872</td>\n",
       "      <td>Is there an FAQ for this Machine Learning course?</td>\n",
       "      <td>machine-learning-zoomcamp</td>\n",
       "      <td>0.583048</td>\n",
       "      <td>0.791524</td>\n",
       "    </tr>\n",
       "    <tr>\n",
       "      <th>3</th>\n",
       "      <td>The context does not provide any specific info...</td>\n",
       "      <td>Machine Learning Zoomcamp FAQ\\nThe purpose of ...</td>\n",
       "      <td>0227b872</td>\n",
       "      <td>Does this course have a GitHub repository for ...</td>\n",
       "      <td>machine-learning-zoomcamp</td>\n",
       "      <td>-0.019481</td>\n",
       "      <td>0.490260</td>\n",
       "    </tr>\n",
       "    <tr>\n",
       "      <th>4</th>\n",
       "      <td>To structure your questions and answers for th...</td>\n",
       "      <td>Machine Learning Zoomcamp FAQ\\nThe purpose of ...</td>\n",
       "      <td>0227b872</td>\n",
       "      <td>How can I structure my questions and answers f...</td>\n",
       "      <td>machine-learning-zoomcamp</td>\n",
       "      <td>0.358467</td>\n",
       "      <td>0.679233</td>\n",
       "    </tr>\n",
       "    <tr>\n",
       "      <th>...</th>\n",
       "      <td>...</td>\n",
       "      <td>...</td>\n",
       "      <td>...</td>\n",
       "      <td>...</td>\n",
       "      <td>...</td>\n",
       "      <td>...</td>\n",
       "      <td>...</td>\n",
       "    </tr>\n",
       "    <tr>\n",
       "      <th>1825</th>\n",
       "      <td>Some suggested titles for listing the Machine ...</td>\n",
       "      <td>I’ve seen LinkedIn users list DataTalksClub as...</td>\n",
       "      <td>c6a22665</td>\n",
       "      <td>What are some suggested titles for listing the...</td>\n",
       "      <td>machine-learning-zoomcamp</td>\n",
       "      <td>0.620892</td>\n",
       "      <td>0.810446</td>\n",
       "    </tr>\n",
       "    <tr>\n",
       "      <th>1826</th>\n",
       "      <td>It is best advised that you do not list the Ma...</td>\n",
       "      <td>I’ve seen LinkedIn users list DataTalksClub as...</td>\n",
       "      <td>c6a22665</td>\n",
       "      <td>Should I list the Machine Learning Zoomcamp ex...</td>\n",
       "      <td>machine-learning-zoomcamp</td>\n",
       "      <td>0.730319</td>\n",
       "      <td>0.865160</td>\n",
       "    </tr>\n",
       "    <tr>\n",
       "      <th>1827</th>\n",
       "      <td>You can incorporate your Machine Learning Zoom...</td>\n",
       "      <td>I’ve seen LinkedIn users list DataTalksClub as...</td>\n",
       "      <td>c6a22665</td>\n",
       "      <td>In which LinkedIn sections can I incorporate m...</td>\n",
       "      <td>machine-learning-zoomcamp</td>\n",
       "      <td>0.679815</td>\n",
       "      <td>0.839907</td>\n",
       "    </tr>\n",
       "    <tr>\n",
       "      <th>1828</th>\n",
       "      <td>The advice on including a project link in a CV...</td>\n",
       "      <td>I’ve seen LinkedIn users list DataTalksClub as...</td>\n",
       "      <td>c6a22665</td>\n",
       "      <td>Who gave advice on including a project link in...</td>\n",
       "      <td>machine-learning-zoomcamp</td>\n",
       "      <td>0.355928</td>\n",
       "      <td>0.677964</td>\n",
       "    </tr>\n",
       "    <tr>\n",
       "      <th>1829</th>\n",
       "      <td>The suggestion to showcase progress through Li...</td>\n",
       "      <td>I’ve seen LinkedIn users list DataTalksClub as...</td>\n",
       "      <td>c6a22665</td>\n",
       "      <td>Who suggested showcasing progress through Link...</td>\n",
       "      <td>machine-learning-zoomcamp</td>\n",
       "      <td>0.318145</td>\n",
       "      <td>0.659073</td>\n",
       "    </tr>\n",
       "  </tbody>\n",
       "</table>\n",
       "<p>1830 rows × 7 columns</p>\n",
       "</div>"
      ],
      "text/plain": [
       "                                             answer_llm  \\\n",
       "0     You can sign up for the course by visiting the...   \n",
       "1     You can sign up using the link provided in the...   \n",
       "2     Yes, there is an FAQ for the Machine Learning ...   \n",
       "3     The context does not provide any specific info...   \n",
       "4     To structure your questions and answers for th...   \n",
       "...                                                 ...   \n",
       "1825  Some suggested titles for listing the Machine ...   \n",
       "1826  It is best advised that you do not list the Ma...   \n",
       "1827  You can incorporate your Machine Learning Zoom...   \n",
       "1828  The advice on including a project link in a CV...   \n",
       "1829  The suggestion to showcase progress through Li...   \n",
       "\n",
       "                                            answer_orig  document  \\\n",
       "0     Machine Learning Zoomcamp FAQ\\nThe purpose of ...  0227b872   \n",
       "1     Machine Learning Zoomcamp FAQ\\nThe purpose of ...  0227b872   \n",
       "2     Machine Learning Zoomcamp FAQ\\nThe purpose of ...  0227b872   \n",
       "3     Machine Learning Zoomcamp FAQ\\nThe purpose of ...  0227b872   \n",
       "4     Machine Learning Zoomcamp FAQ\\nThe purpose of ...  0227b872   \n",
       "...                                                 ...       ...   \n",
       "1825  I’ve seen LinkedIn users list DataTalksClub as...  c6a22665   \n",
       "1826  I’ve seen LinkedIn users list DataTalksClub as...  c6a22665   \n",
       "1827  I’ve seen LinkedIn users list DataTalksClub as...  c6a22665   \n",
       "1828  I’ve seen LinkedIn users list DataTalksClub as...  c6a22665   \n",
       "1829  I’ve seen LinkedIn users list DataTalksClub as...  c6a22665   \n",
       "\n",
       "                                               question  \\\n",
       "0                   Where can I sign up for the course?   \n",
       "1                    Can you provide a link to sign up?   \n",
       "2     Is there an FAQ for this Machine Learning course?   \n",
       "3     Does this course have a GitHub repository for ...   \n",
       "4     How can I structure my questions and answers f...   \n",
       "...                                                 ...   \n",
       "1825  What are some suggested titles for listing the...   \n",
       "1826  Should I list the Machine Learning Zoomcamp ex...   \n",
       "1827  In which LinkedIn sections can I incorporate m...   \n",
       "1828  Who gave advice on including a project link in...   \n",
       "1829  Who suggested showcasing progress through Link...   \n",
       "\n",
       "                         course    cosine  cosine_normalized  \n",
       "0     machine-learning-zoomcamp  0.388595           0.694297  \n",
       "1     machine-learning-zoomcamp  0.298360           0.649180  \n",
       "2     machine-learning-zoomcamp  0.583048           0.791524  \n",
       "3     machine-learning-zoomcamp -0.019481           0.490260  \n",
       "4     machine-learning-zoomcamp  0.358467           0.679233  \n",
       "...                         ...       ...                ...  \n",
       "1825  machine-learning-zoomcamp  0.620892           0.810446  \n",
       "1826  machine-learning-zoomcamp  0.730319           0.865160  \n",
       "1827  machine-learning-zoomcamp  0.679815           0.839907  \n",
       "1828  machine-learning-zoomcamp  0.355928           0.677964  \n",
       "1829  machine-learning-zoomcamp  0.318145           0.659073  \n",
       "\n",
       "[1830 rows x 7 columns]"
      ]
     },
     "execution_count": 24,
     "metadata": {},
     "output_type": "execute_result"
    }
   ],
   "source": [
    "df"
   ]
  },
  {
   "cell_type": "markdown",
   "id": "55353b83-cfd0-4b6a-bec3-5ac5f3c9606f",
   "metadata": {},
   "source": [
    "# Q4:"
   ]
  },
  {
   "cell_type": "code",
   "execution_count": 25,
   "id": "e7c31fa2-52f5-485c-b597-d582a2f1fab3",
   "metadata": {},
   "outputs": [
    {
     "data": {
      "text/html": [
       "<div>\n",
       "<style scoped>\n",
       "    .dataframe tbody tr th:only-of-type {\n",
       "        vertical-align: middle;\n",
       "    }\n",
       "\n",
       "    .dataframe tbody tr th {\n",
       "        vertical-align: top;\n",
       "    }\n",
       "\n",
       "    .dataframe thead th {\n",
       "        text-align: right;\n",
       "    }\n",
       "</style>\n",
       "<table border=\"1\" class=\"dataframe\">\n",
       "  <thead>\n",
       "    <tr style=\"text-align: right;\">\n",
       "      <th></th>\n",
       "      <th>answer_llm</th>\n",
       "      <th>answer_orig</th>\n",
       "      <th>document</th>\n",
       "      <th>question</th>\n",
       "      <th>course</th>\n",
       "      <th>cosine</th>\n",
       "      <th>cosine_normalized</th>\n",
       "    </tr>\n",
       "  </thead>\n",
       "  <tbody>\n",
       "    <tr>\n",
       "      <th>10</th>\n",
       "      <td>Yes, all sessions are recorded, so if you miss...</td>\n",
       "      <td>Everything is recorded, so you won’t miss anyt...</td>\n",
       "      <td>5170565b</td>\n",
       "      <td>Are sessions recorded if I miss one?</td>\n",
       "      <td>machine-learning-zoomcamp</td>\n",
       "      <td>0.684030</td>\n",
       "      <td>0.842015</td>\n",
       "    </tr>\n",
       "    <tr>\n",
       "      <th>11</th>\n",
       "      <td>Yes, you can ask your questions in advance if ...</td>\n",
       "      <td>Everything is recorded, so you won’t miss anyt...</td>\n",
       "      <td>5170565b</td>\n",
       "      <td>Can I ask questions in advance if I can't atte...</td>\n",
       "      <td>machine-learning-zoomcamp</td>\n",
       "      <td>0.723019</td>\n",
       "      <td>0.861510</td>\n",
       "    </tr>\n",
       "    <tr>\n",
       "      <th>12</th>\n",
       "      <td>If you miss a session, don't worry! Everything...</td>\n",
       "      <td>Everything is recorded, so you won’t miss anyt...</td>\n",
       "      <td>5170565b</td>\n",
       "      <td>How will my questions be addressed if I miss a...</td>\n",
       "      <td>machine-learning-zoomcamp</td>\n",
       "      <td>0.913276</td>\n",
       "      <td>0.956638</td>\n",
       "    </tr>\n",
       "    <tr>\n",
       "      <th>13</th>\n",
       "      <td>Yes, there is a way to catch up on a missed se...</td>\n",
       "      <td>Everything is recorded, so you won’t miss anyt...</td>\n",
       "      <td>5170565b</td>\n",
       "      <td>Is there a way to catch up on a missed session?</td>\n",
       "      <td>machine-learning-zoomcamp</td>\n",
       "      <td>0.795638</td>\n",
       "      <td>0.897819</td>\n",
       "    </tr>\n",
       "    <tr>\n",
       "      <th>14</th>\n",
       "      <td>Yes, you can still interact with instructors a...</td>\n",
       "      <td>Everything is recorded, so you won’t miss anyt...</td>\n",
       "      <td>5170565b</td>\n",
       "      <td>Can I still interact with instructors after mi...</td>\n",
       "      <td>machine-learning-zoomcamp</td>\n",
       "      <td>0.615270</td>\n",
       "      <td>0.807635</td>\n",
       "    </tr>\n",
       "  </tbody>\n",
       "</table>\n",
       "</div>"
      ],
      "text/plain": [
       "                                           answer_llm  \\\n",
       "10  Yes, all sessions are recorded, so if you miss...   \n",
       "11  Yes, you can ask your questions in advance if ...   \n",
       "12  If you miss a session, don't worry! Everything...   \n",
       "13  Yes, there is a way to catch up on a missed se...   \n",
       "14  Yes, you can still interact with instructors a...   \n",
       "\n",
       "                                          answer_orig  document  \\\n",
       "10  Everything is recorded, so you won’t miss anyt...  5170565b   \n",
       "11  Everything is recorded, so you won’t miss anyt...  5170565b   \n",
       "12  Everything is recorded, so you won’t miss anyt...  5170565b   \n",
       "13  Everything is recorded, so you won’t miss anyt...  5170565b   \n",
       "14  Everything is recorded, so you won’t miss anyt...  5170565b   \n",
       "\n",
       "                                             question  \\\n",
       "10               Are sessions recorded if I miss one?   \n",
       "11  Can I ask questions in advance if I can't atte...   \n",
       "12  How will my questions be addressed if I miss a...   \n",
       "13    Is there a way to catch up on a missed session?   \n",
       "14  Can I still interact with instructors after mi...   \n",
       "\n",
       "                       course    cosine  cosine_normalized  \n",
       "10  machine-learning-zoomcamp  0.684030           0.842015  \n",
       "11  machine-learning-zoomcamp  0.723019           0.861510  \n",
       "12  machine-learning-zoomcamp  0.913276           0.956638  \n",
       "13  machine-learning-zoomcamp  0.795638           0.897819  \n",
       "14  machine-learning-zoomcamp  0.615270           0.807635  "
      ]
     },
     "execution_count": 25,
     "metadata": {},
     "output_type": "execute_result"
    }
   ],
   "source": [
    "df[df[\"document\"]==\"5170565b\"]"
   ]
  },
  {
   "cell_type": "code",
   "execution_count": 26,
   "id": "5ac84e0b-8015-417b-a566-0e3efbb1d7ac",
   "metadata": {},
   "outputs": [
    {
     "data": {
      "text/html": [
       "<div>\n",
       "<style scoped>\n",
       "    .dataframe tbody tr th:only-of-type {\n",
       "        vertical-align: middle;\n",
       "    }\n",
       "\n",
       "    .dataframe tbody tr th {\n",
       "        vertical-align: top;\n",
       "    }\n",
       "\n",
       "    .dataframe thead th {\n",
       "        text-align: right;\n",
       "    }\n",
       "</style>\n",
       "<table border=\"1\" class=\"dataframe\">\n",
       "  <thead>\n",
       "    <tr style=\"text-align: right;\">\n",
       "      <th></th>\n",
       "      <th>answer_llm</th>\n",
       "      <th>answer_orig</th>\n",
       "      <th>document</th>\n",
       "      <th>question</th>\n",
       "      <th>course</th>\n",
       "      <th>cosine</th>\n",
       "      <th>cosine_normalized</th>\n",
       "    </tr>\n",
       "  </thead>\n",
       "  <tbody>\n",
       "    <tr>\n",
       "      <th>10</th>\n",
       "      <td>Yes, all sessions are recorded, so if you miss...</td>\n",
       "      <td>Everything is recorded, so you won’t miss anyt...</td>\n",
       "      <td>5170565b</td>\n",
       "      <td>Are sessions recorded if I miss one?</td>\n",
       "      <td>machine-learning-zoomcamp</td>\n",
       "      <td>0.68403</td>\n",
       "      <td>0.842015</td>\n",
       "    </tr>\n",
       "  </tbody>\n",
       "</table>\n",
       "</div>"
      ],
      "text/plain": [
       "                                           answer_llm  \\\n",
       "10  Yes, all sessions are recorded, so if you miss...   \n",
       "\n",
       "                                          answer_orig  document  \\\n",
       "10  Everything is recorded, so you won’t miss anyt...  5170565b   \n",
       "\n",
       "                                question                     course   cosine  \\\n",
       "10  Are sessions recorded if I miss one?  machine-learning-zoomcamp  0.68403   \n",
       "\n",
       "    cosine_normalized  \n",
       "10           0.842015  "
      ]
     },
     "execution_count": 26,
     "metadata": {},
     "output_type": "execute_result"
    }
   ],
   "source": [
    "df.iloc[10:11]"
   ]
  },
  {
   "cell_type": "code",
   "execution_count": 27,
   "id": "50bc72ef-03ea-4cf6-97ff-e923587bc603",
   "metadata": {},
   "outputs": [
    {
     "data": {
      "text/plain": [
       "10    Yes, all sessions are recorded, so if you miss...\n",
       "Name: answer_llm, dtype: object"
      ]
     },
     "execution_count": 27,
     "metadata": {},
     "output_type": "execute_result"
    }
   ],
   "source": [
    "df[\"answer_llm\"].iloc[10:11]"
   ]
  },
  {
   "cell_type": "code",
   "execution_count": 28,
   "id": "7d38aa01-3a1b-42b5-9a3d-62321dc21d3f",
   "metadata": {},
   "outputs": [
    {
     "data": {
      "text/plain": [
       "10    Everything is recorded, so you won’t miss anyt...\n",
       "Name: answer_orig, dtype: object"
      ]
     },
     "execution_count": 28,
     "metadata": {},
     "output_type": "execute_result"
    }
   ],
   "source": [
    "df[\"answer_orig\"].iloc[10:11]"
   ]
  },
  {
   "cell_type": "code",
   "execution_count": 29,
   "id": "39633b60-7804-463b-bf5f-a793e68153db",
   "metadata": {},
   "outputs": [
    {
     "data": {
      "text/plain": [
       "{'rouge-1': {'r': 0.45454545454545453,\n",
       "  'p': 0.45454545454545453,\n",
       "  'f': 0.45454544954545456},\n",
       " 'rouge-2': {'r': 0.21621621621621623,\n",
       "  'p': 0.21621621621621623,\n",
       "  'f': 0.21621621121621637},\n",
       " 'rouge-l': {'r': 0.3939393939393939,\n",
       "  'p': 0.3939393939393939,\n",
       "  'f': 0.393939388939394}}"
      ]
     },
     "execution_count": 29,
     "metadata": {},
     "output_type": "execute_result"
    }
   ],
   "source": [
    "from rouge import Rouge\n",
    "rouge_scorer = Rouge()\n",
    "\n",
    "# scores = rouge_scorer.get_scores(r['answer_llm'], r['answer_orig'])[0]\n",
    "scores = rouge_scorer.get_scores(df[\"answer_llm\"].iloc[10:11], df[\"answer_orig\"].iloc[10:11])[0]\n",
    "scores"
   ]
  },
  {
   "cell_type": "markdown",
   "id": "a1d9b497-9102-4fcb-b549-58c975556f06",
   "metadata": {},
   "source": [
    "# Q5:"
   ]
  },
  {
   "cell_type": "code",
   "execution_count": 30,
   "id": "cfa46f20-a648-43e6-b22d-a80a07e3e6bd",
   "metadata": {},
   "outputs": [
    {
     "data": {
      "text/plain": [
       "0.45454544954545456"
      ]
     },
     "execution_count": 30,
     "metadata": {},
     "output_type": "execute_result"
    }
   ],
   "source": [
    "scores[\"rouge-1\"][\"f\"]"
   ]
  },
  {
   "cell_type": "code",
   "execution_count": 31,
   "id": "eb238131-6424-449d-ba47-959aba944a19",
   "metadata": {},
   "outputs": [
    {
     "data": {
      "text/plain": [
       "0.21621621121621637"
      ]
     },
     "execution_count": 31,
     "metadata": {},
     "output_type": "execute_result"
    }
   ],
   "source": [
    "scores[\"rouge-2\"][\"f\"]"
   ]
  },
  {
   "cell_type": "code",
   "execution_count": 32,
   "id": "e0310ef2-c280-4c93-9bc7-07b01a16e606",
   "metadata": {},
   "outputs": [
    {
     "data": {
      "text/plain": [
       "0.393939388939394"
      ]
     },
     "execution_count": 32,
     "metadata": {},
     "output_type": "execute_result"
    }
   ],
   "source": [
    "scores[\"rouge-l\"][\"f\"]"
   ]
  },
  {
   "cell_type": "code",
   "execution_count": 33,
   "id": "b1053909-0a09-4faa-a695-51e430d2bfbf",
   "metadata": {},
   "outputs": [
    {
     "data": {
      "text/plain": [
       "0.35490034990035496"
      ]
     },
     "execution_count": 33,
     "metadata": {},
     "output_type": "execute_result"
    }
   ],
   "source": [
    "(scores[\"rouge-1\"][\"f\"] + scores[\"rouge-2\"][\"f\"] + scores[\"rouge-l\"][\"f\"]) / 3"
   ]
  },
  {
   "cell_type": "markdown",
   "id": "9369c16e-c697-4cde-8400-f765869e4547",
   "metadata": {},
   "source": [
    "# Q6:"
   ]
  },
  {
   "cell_type": "code",
   "execution_count": 34,
   "id": "6a1f7bfa-ef0c-419b-8b12-f4e2d0de73e5",
   "metadata": {},
   "outputs": [
    {
     "name": "stdout",
     "output_type": "stream",
     "text": [
      "Average F-score for Rouge-1: 0.3516946452113944\n",
      "Average F-score for Rouge-2: 0.1767170469826221\n",
      "Average F-score for Rouge-L: 0.32758565643306686\n",
      "Overall Average F-score: 0.2853324495423611\n"
     ]
    }
   ],
   "source": [
    "import pandas as pd\n",
    "from rouge import Rouge\n",
    "\n",
    "# Assuming df is your DataFrame\n",
    "rouge_scorer = Rouge()\n",
    "\n",
    "# Initialize variables to accumulate the sum of F-scores\n",
    "total_f_score_rouge1 = 0\n",
    "total_f_score_rouge2 = 0\n",
    "total_f_score_rougeL = 0\n",
    "\n",
    "# Iterate over all rows in the DataFrame\n",
    "for index in range(len(df)):\n",
    "    # Get the LLM-generated answer and the original answer\n",
    "    answer_llm = df[\"answer_llm\"].iloc[index]\n",
    "    answer_orig = df[\"answer_orig\"].iloc[index]\n",
    "    \n",
    "    # Compute the Rouge scores\n",
    "    scores = rouge_scorer.get_scores(answer_llm, answer_orig)[0]\n",
    "    \n",
    "    # Accumulate the F-scores\n",
    "    total_f_score_rouge1 += scores[\"rouge-1\"][\"f\"]\n",
    "    total_f_score_rouge2 += scores[\"rouge-2\"][\"f\"]\n",
    "    total_f_score_rougeL += scores[\"rouge-l\"][\"f\"]\n",
    "\n",
    "# Calculate the average F-scores across all examples\n",
    "average_f_score_rouge1 = total_f_score_rouge1 / len(df)\n",
    "average_f_score_rouge2 = total_f_score_rouge2 / len(df)\n",
    "average_f_score_rougeL = total_f_score_rougeL / len(df)\n",
    "\n",
    "# Compute the overall average F-score across all rouge metrics\n",
    "overall_average_f_score = (average_f_score_rouge1 + average_f_score_rouge2 + average_f_score_rougeL) / 3\n",
    "\n",
    "# Output the results\n",
    "print(f\"Average F-score for Rouge-1: {average_f_score_rouge1}\")\n",
    "print(f\"Average F-score for Rouge-2: {average_f_score_rouge2}\")\n",
    "print(f\"Average F-score for Rouge-L: {average_f_score_rougeL}\")\n",
    "print(f\"Overall Average F-score: {overall_average_f_score}\")\n"
   ]
  },
  {
   "cell_type": "code",
   "execution_count": null,
   "id": "9b7ed4df-c7bd-4afb-b385-66b43f78e739",
   "metadata": {},
   "outputs": [],
   "source": []
  },
  {
   "cell_type": "code",
   "execution_count": null,
   "id": "f6f71989-7e2e-4ad1-aaa1-ae71cd731122",
   "metadata": {},
   "outputs": [],
   "source": []
  },
  {
   "cell_type": "code",
   "execution_count": null,
   "id": "eb845741-2fc0-4515-8cfc-74f1c028f1f1",
   "metadata": {},
   "outputs": [],
   "source": []
  }
 ],
 "metadata": {
  "kernelspec": {
   "display_name": "Python 3 (ipykernel)",
   "language": "python",
   "name": "python3"
  },
  "language_info": {
   "codemirror_mode": {
    "name": "ipython",
    "version": 3
   },
   "file_extension": ".py",
   "mimetype": "text/x-python",
   "name": "python",
   "nbconvert_exporter": "python",
   "pygments_lexer": "ipython3",
   "version": "3.10.12"
  }
 },
 "nbformat": 4,
 "nbformat_minor": 5
}
